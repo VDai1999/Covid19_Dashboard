{
 "cells": [
  {
   "cell_type": "code",
   "execution_count": 54,
   "metadata": {},
   "outputs": [],
   "source": [
    "import pandas as pd\n",
    "import numpy as np\n",
    "# from datetime import datetime\n",
    "# import requests\n",
    "\n",
    "import altair as alt\n",
    "from vega_datasets import data\n",
    "import plotly.express as px"
   ]
  },
  {
   "cell_type": "markdown",
   "metadata": {},
   "source": [
    "### Read Data"
   ]
  },
  {
   "cell_type": "code",
   "execution_count": 14,
   "metadata": {},
   "outputs": [],
   "source": [
    "# Data URLs\n",
    "us_url = \"https://raw.githubusercontent.com/nytimes/covid-19-data/master/us.csv\"\n",
    "states_url = \"https://raw.githubusercontent.com/nytimes/covid-19-data/master/us-states.csv\"\n",
    "regions_url = \"https://raw.githubusercontent.com/cphalpert/census-regions/master/us%20census%20bureau%20regions%20and%20divisions.csv\""
   ]
  },
  {
   "cell_type": "code",
   "execution_count": 15,
   "metadata": {},
   "outputs": [],
   "source": [
    "# Read Data\n",
    "us = pd.read_csv(us_url)\n",
    "states = pd.read_csv(states_url)\n",
    "regions = pd.read_csv(regions_url)"
   ]
  },
  {
   "cell_type": "markdown",
   "metadata": {},
   "source": [
    "### Process Data"
   ]
  },
  {
   "cell_type": "code",
   "execution_count": 25,
   "metadata": {},
   "outputs": [],
   "source": [
    "saved_data_pth = \"data\""
   ]
  },
  {
   "cell_type": "markdown",
   "metadata": {},
   "source": [
    "Region Data"
   ]
  },
  {
   "cell_type": "code",
   "execution_count": 16,
   "metadata": {},
   "outputs": [
    {
     "data": {
      "text/html": [
       "<div>\n",
       "<style scoped>\n",
       "    .dataframe tbody tr th:only-of-type {\n",
       "        vertical-align: middle;\n",
       "    }\n",
       "\n",
       "    .dataframe tbody tr th {\n",
       "        vertical-align: top;\n",
       "    }\n",
       "\n",
       "    .dataframe thead th {\n",
       "        text-align: right;\n",
       "    }\n",
       "</style>\n",
       "<table border=\"1\" class=\"dataframe\">\n",
       "  <thead>\n",
       "    <tr style=\"text-align: right;\">\n",
       "      <th></th>\n",
       "      <th>State</th>\n",
       "      <th>State Code</th>\n",
       "      <th>Region</th>\n",
       "      <th>Division</th>\n",
       "      <th>State.Code</th>\n",
       "    </tr>\n",
       "  </thead>\n",
       "  <tbody>\n",
       "    <tr>\n",
       "      <th>0</th>\n",
       "      <td>Alaska</td>\n",
       "      <td>AK</td>\n",
       "      <td>West</td>\n",
       "      <td>Pacific</td>\n",
       "      <td>NaN</td>\n",
       "    </tr>\n",
       "    <tr>\n",
       "      <th>1</th>\n",
       "      <td>Alabama</td>\n",
       "      <td>AL</td>\n",
       "      <td>South</td>\n",
       "      <td>East South Central</td>\n",
       "      <td>NaN</td>\n",
       "    </tr>\n",
       "    <tr>\n",
       "      <th>2</th>\n",
       "      <td>Arkansas</td>\n",
       "      <td>AR</td>\n",
       "      <td>South</td>\n",
       "      <td>West South Central</td>\n",
       "      <td>NaN</td>\n",
       "    </tr>\n",
       "    <tr>\n",
       "      <th>3</th>\n",
       "      <td>Arizona</td>\n",
       "      <td>AZ</td>\n",
       "      <td>West</td>\n",
       "      <td>Mountain</td>\n",
       "      <td>NaN</td>\n",
       "    </tr>\n",
       "    <tr>\n",
       "      <th>4</th>\n",
       "      <td>California</td>\n",
       "      <td>CA</td>\n",
       "      <td>West</td>\n",
       "      <td>Pacific</td>\n",
       "      <td>NaN</td>\n",
       "    </tr>\n",
       "  </tbody>\n",
       "</table>\n",
       "</div>"
      ],
      "text/plain": [
       "        State State Code Region            Division State.Code\n",
       "0      Alaska         AK   West             Pacific        NaN\n",
       "1     Alabama         AL  South  East South Central        NaN\n",
       "2    Arkansas         AR  South  West South Central        NaN\n",
       "3     Arizona         AZ   West            Mountain        NaN\n",
       "4  California         CA   West             Pacific        NaN"
      ]
     },
     "execution_count": 16,
     "metadata": {},
     "output_type": "execute_result"
    }
   ],
   "source": [
    "regions_extra = pd.DataFrame({\n",
    "    'State': [\"Puerto Rico\", \"Virgin Islands\", \"Guam\", \"Northern Mariana Islands\"],\n",
    "    'State.Code': [\"RR\", \"VI\", \"GU\", \"MP\"],\n",
    "    'Region': [\"Other\", \"Other\", \"Other\", \"Other\"],\n",
    "    'Division': [\"None\", \"None\", \"None\", \"None\"]\n",
    "})\n",
    "\n",
    "regions = pd.concat([regions, regions_extra])\n",
    "regions.head()"
   ]
  },
  {
   "cell_type": "code",
   "execution_count": 23,
   "metadata": {},
   "outputs": [],
   "source": [
    "# Save data\n",
    "regions.to_csv(f\"{saved_data_pth}/regions.csv\", index=False)"
   ]
  },
  {
   "cell_type": "markdown",
   "metadata": {},
   "source": [
    "State Data"
   ]
  },
  {
   "cell_type": "code",
   "execution_count": 17,
   "metadata": {},
   "outputs": [
    {
     "data": {
      "text/html": [
       "<div>\n",
       "<style scoped>\n",
       "    .dataframe tbody tr th:only-of-type {\n",
       "        vertical-align: middle;\n",
       "    }\n",
       "\n",
       "    .dataframe tbody tr th {\n",
       "        vertical-align: top;\n",
       "    }\n",
       "\n",
       "    .dataframe thead th {\n",
       "        text-align: right;\n",
       "    }\n",
       "</style>\n",
       "<table border=\"1\" class=\"dataframe\">\n",
       "  <thead>\n",
       "    <tr style=\"text-align: right;\">\n",
       "      <th></th>\n",
       "      <th>date</th>\n",
       "      <th>state</th>\n",
       "      <th>fips</th>\n",
       "      <th>cases</th>\n",
       "      <th>deaths</th>\n",
       "      <th>daily_cases</th>\n",
       "      <th>daily_deaths</th>\n",
       "    </tr>\n",
       "  </thead>\n",
       "  <tbody>\n",
       "    <tr>\n",
       "      <th>0</th>\n",
       "      <td>2020-01-21</td>\n",
       "      <td>Washington</td>\n",
       "      <td>53</td>\n",
       "      <td>1</td>\n",
       "      <td>0</td>\n",
       "      <td>1.0</td>\n",
       "      <td>0.0</td>\n",
       "    </tr>\n",
       "    <tr>\n",
       "      <th>1</th>\n",
       "      <td>2020-01-22</td>\n",
       "      <td>Washington</td>\n",
       "      <td>53</td>\n",
       "      <td>1</td>\n",
       "      <td>0</td>\n",
       "      <td>0.0</td>\n",
       "      <td>0.0</td>\n",
       "    </tr>\n",
       "    <tr>\n",
       "      <th>2</th>\n",
       "      <td>2020-01-23</td>\n",
       "      <td>Washington</td>\n",
       "      <td>53</td>\n",
       "      <td>1</td>\n",
       "      <td>0</td>\n",
       "      <td>0.0</td>\n",
       "      <td>0.0</td>\n",
       "    </tr>\n",
       "    <tr>\n",
       "      <th>3</th>\n",
       "      <td>2020-01-24</td>\n",
       "      <td>Illinois</td>\n",
       "      <td>17</td>\n",
       "      <td>1</td>\n",
       "      <td>0</td>\n",
       "      <td>1.0</td>\n",
       "      <td>0.0</td>\n",
       "    </tr>\n",
       "    <tr>\n",
       "      <th>4</th>\n",
       "      <td>2020-01-24</td>\n",
       "      <td>Washington</td>\n",
       "      <td>53</td>\n",
       "      <td>1</td>\n",
       "      <td>0</td>\n",
       "      <td>0.0</td>\n",
       "      <td>0.0</td>\n",
       "    </tr>\n",
       "  </tbody>\n",
       "</table>\n",
       "</div>"
      ],
      "text/plain": [
       "        date       state  fips  cases  deaths  daily_cases  daily_deaths\n",
       "0 2020-01-21  Washington    53      1       0          1.0           0.0\n",
       "1 2020-01-22  Washington    53      1       0          0.0           0.0\n",
       "2 2020-01-23  Washington    53      1       0          0.0           0.0\n",
       "3 2020-01-24    Illinois    17      1       0          1.0           0.0\n",
       "4 2020-01-24  Washington    53      1       0          0.0           0.0"
      ]
     },
     "execution_count": 17,
     "metadata": {},
     "output_type": "execute_result"
    }
   ],
   "source": [
    "# Change the date column from character format to date format and state column from character to factor format\n",
    "states['date'] = pd.to_datetime(states['date'])\n",
    "\n",
    "# Check to see if we calculate the right daily cases and daily deaths\n",
    "states['daily_cases'] = states.groupby('state')['cases'].diff().fillna(states['cases'])\n",
    "states['daily_deaths'] = states.groupby('state')['deaths'].diff().fillna(states['deaths'])\n",
    "states.head()"
   ]
  },
  {
   "cell_type": "code",
   "execution_count": 18,
   "metadata": {},
   "outputs": [
    {
     "data": {
      "text/html": [
       "<div>\n",
       "<style scoped>\n",
       "    .dataframe tbody tr th:only-of-type {\n",
       "        vertical-align: middle;\n",
       "    }\n",
       "\n",
       "    .dataframe tbody tr th {\n",
       "        vertical-align: top;\n",
       "    }\n",
       "\n",
       "    .dataframe thead th {\n",
       "        text-align: right;\n",
       "    }\n",
       "</style>\n",
       "<table border=\"1\" class=\"dataframe\">\n",
       "  <thead>\n",
       "    <tr style=\"text-align: right;\">\n",
       "      <th></th>\n",
       "      <th>date</th>\n",
       "      <th>state</th>\n",
       "      <th>fips</th>\n",
       "      <th>cases</th>\n",
       "      <th>deaths</th>\n",
       "      <th>daily_cases</th>\n",
       "      <th>daily_deaths</th>\n",
       "      <th>Region</th>\n",
       "    </tr>\n",
       "  </thead>\n",
       "  <tbody>\n",
       "    <tr>\n",
       "      <th>0</th>\n",
       "      <td>2020-01-21</td>\n",
       "      <td>Washington</td>\n",
       "      <td>53</td>\n",
       "      <td>1</td>\n",
       "      <td>0</td>\n",
       "      <td>1.0</td>\n",
       "      <td>0.0</td>\n",
       "      <td>West</td>\n",
       "    </tr>\n",
       "    <tr>\n",
       "      <th>1</th>\n",
       "      <td>2020-01-22</td>\n",
       "      <td>Washington</td>\n",
       "      <td>53</td>\n",
       "      <td>1</td>\n",
       "      <td>0</td>\n",
       "      <td>0.0</td>\n",
       "      <td>0.0</td>\n",
       "      <td>West</td>\n",
       "    </tr>\n",
       "    <tr>\n",
       "      <th>2</th>\n",
       "      <td>2020-01-23</td>\n",
       "      <td>Washington</td>\n",
       "      <td>53</td>\n",
       "      <td>1</td>\n",
       "      <td>0</td>\n",
       "      <td>0.0</td>\n",
       "      <td>0.0</td>\n",
       "      <td>West</td>\n",
       "    </tr>\n",
       "    <tr>\n",
       "      <th>3</th>\n",
       "      <td>2020-01-24</td>\n",
       "      <td>Illinois</td>\n",
       "      <td>17</td>\n",
       "      <td>1</td>\n",
       "      <td>0</td>\n",
       "      <td>1.0</td>\n",
       "      <td>0.0</td>\n",
       "      <td>Midwest</td>\n",
       "    </tr>\n",
       "    <tr>\n",
       "      <th>4</th>\n",
       "      <td>2020-01-24</td>\n",
       "      <td>Washington</td>\n",
       "      <td>53</td>\n",
       "      <td>1</td>\n",
       "      <td>0</td>\n",
       "      <td>0.0</td>\n",
       "      <td>0.0</td>\n",
       "      <td>West</td>\n",
       "    </tr>\n",
       "  </tbody>\n",
       "</table>\n",
       "</div>"
      ],
      "text/plain": [
       "        date       state  fips  cases  deaths  daily_cases  daily_deaths  \\\n",
       "0 2020-01-21  Washington    53      1       0          1.0           0.0   \n",
       "1 2020-01-22  Washington    53      1       0          0.0           0.0   \n",
       "2 2020-01-23  Washington    53      1       0          0.0           0.0   \n",
       "3 2020-01-24    Illinois    17      1       0          1.0           0.0   \n",
       "4 2020-01-24  Washington    53      1       0          0.0           0.0   \n",
       "\n",
       "    Region  \n",
       "0     West  \n",
       "1     West  \n",
       "2     West  \n",
       "3  Midwest  \n",
       "4     West  "
      ]
     },
     "execution_count": 18,
     "metadata": {},
     "output_type": "execute_result"
    }
   ],
   "source": [
    "# Merge the Region column to states dataframe\n",
    "states = pd.merge(states, regions[['State', 'Region']], left_on='state', right_on='State', how='left')\n",
    "states['Region'] = pd.Categorical(states['Region'], categories=[\"Northeast\", \"Midwest\", \"West\", \"South\", \"Other\"], ordered=True)\n",
    "states.drop(columns=[\"State\"], inplace=True)\n",
    "states.head()"
   ]
  },
  {
   "cell_type": "code",
   "execution_count": 20,
   "metadata": {},
   "outputs": [
    {
     "data": {
      "text/html": [
       "<div>\n",
       "<style scoped>\n",
       "    .dataframe tbody tr th:only-of-type {\n",
       "        vertical-align: middle;\n",
       "    }\n",
       "\n",
       "    .dataframe tbody tr th {\n",
       "        vertical-align: top;\n",
       "    }\n",
       "\n",
       "    .dataframe thead th {\n",
       "        text-align: right;\n",
       "    }\n",
       "</style>\n",
       "<table border=\"1\" class=\"dataframe\">\n",
       "  <thead>\n",
       "    <tr style=\"text-align: right;\">\n",
       "      <th></th>\n",
       "      <th>Date</th>\n",
       "      <th>State</th>\n",
       "      <th>fips</th>\n",
       "      <th>Total_Cases</th>\n",
       "      <th>Total_Deaths</th>\n",
       "      <th>daily_cases</th>\n",
       "      <th>daily_deaths</th>\n",
       "      <th>Region</th>\n",
       "    </tr>\n",
       "  </thead>\n",
       "  <tbody>\n",
       "    <tr>\n",
       "      <th>0</th>\n",
       "      <td>2020-01-21</td>\n",
       "      <td>Washington</td>\n",
       "      <td>53</td>\n",
       "      <td>1</td>\n",
       "      <td>0</td>\n",
       "      <td>1.0</td>\n",
       "      <td>0.0</td>\n",
       "      <td>West</td>\n",
       "    </tr>\n",
       "    <tr>\n",
       "      <th>1</th>\n",
       "      <td>2020-01-22</td>\n",
       "      <td>Washington</td>\n",
       "      <td>53</td>\n",
       "      <td>1</td>\n",
       "      <td>0</td>\n",
       "      <td>0.0</td>\n",
       "      <td>0.0</td>\n",
       "      <td>West</td>\n",
       "    </tr>\n",
       "    <tr>\n",
       "      <th>2</th>\n",
       "      <td>2020-01-23</td>\n",
       "      <td>Washington</td>\n",
       "      <td>53</td>\n",
       "      <td>1</td>\n",
       "      <td>0</td>\n",
       "      <td>0.0</td>\n",
       "      <td>0.0</td>\n",
       "      <td>West</td>\n",
       "    </tr>\n",
       "    <tr>\n",
       "      <th>3</th>\n",
       "      <td>2020-01-24</td>\n",
       "      <td>Illinois</td>\n",
       "      <td>17</td>\n",
       "      <td>1</td>\n",
       "      <td>0</td>\n",
       "      <td>1.0</td>\n",
       "      <td>0.0</td>\n",
       "      <td>Midwest</td>\n",
       "    </tr>\n",
       "    <tr>\n",
       "      <th>4</th>\n",
       "      <td>2020-01-24</td>\n",
       "      <td>Washington</td>\n",
       "      <td>53</td>\n",
       "      <td>1</td>\n",
       "      <td>0</td>\n",
       "      <td>0.0</td>\n",
       "      <td>0.0</td>\n",
       "      <td>West</td>\n",
       "    </tr>\n",
       "  </tbody>\n",
       "</table>\n",
       "</div>"
      ],
      "text/plain": [
       "        Date       State  fips  Total_Cases  Total_Deaths  daily_cases  \\\n",
       "0 2020-01-21  Washington    53            1             0          1.0   \n",
       "1 2020-01-22  Washington    53            1             0          0.0   \n",
       "2 2020-01-23  Washington    53            1             0          0.0   \n",
       "3 2020-01-24    Illinois    17            1             0          1.0   \n",
       "4 2020-01-24  Washington    53            1             0          0.0   \n",
       "\n",
       "   daily_deaths   Region  \n",
       "0           0.0     West  \n",
       "1           0.0     West  \n",
       "2           0.0     West  \n",
       "3           0.0  Midwest  \n",
       "4           0.0     West  "
      ]
     },
     "execution_count": 20,
     "metadata": {},
     "output_type": "execute_result"
    }
   ],
   "source": [
    "# Rename variables\n",
    "states = states.rename(columns={'state': 'State', 'date': 'Date', 'cases': 'Total_Cases', 'deaths': 'Total_Deaths'})\n",
    "states.head()"
   ]
  },
  {
   "cell_type": "code",
   "execution_count": 26,
   "metadata": {},
   "outputs": [],
   "source": [
    "# Save data\n",
    "states.to_csv(f\"{saved_data_pth}/states.csv\", index=False)"
   ]
  },
  {
   "cell_type": "markdown",
   "metadata": {},
   "source": [
    "US Data"
   ]
  },
  {
   "cell_type": "code",
   "execution_count": 19,
   "metadata": {},
   "outputs": [
    {
     "data": {
      "text/html": [
       "<div>\n",
       "<style scoped>\n",
       "    .dataframe tbody tr th:only-of-type {\n",
       "        vertical-align: middle;\n",
       "    }\n",
       "\n",
       "    .dataframe tbody tr th {\n",
       "        vertical-align: top;\n",
       "    }\n",
       "\n",
       "    .dataframe thead th {\n",
       "        text-align: right;\n",
       "    }\n",
       "</style>\n",
       "<table border=\"1\" class=\"dataframe\">\n",
       "  <thead>\n",
       "    <tr style=\"text-align: right;\">\n",
       "      <th></th>\n",
       "      <th>date</th>\n",
       "      <th>cases</th>\n",
       "      <th>deaths</th>\n",
       "      <th>daily_cases</th>\n",
       "      <th>daily_deaths</th>\n",
       "    </tr>\n",
       "  </thead>\n",
       "  <tbody>\n",
       "    <tr>\n",
       "      <th>0</th>\n",
       "      <td>2020-01-21</td>\n",
       "      <td>1</td>\n",
       "      <td>0</td>\n",
       "      <td>1</td>\n",
       "      <td>0</td>\n",
       "    </tr>\n",
       "    <tr>\n",
       "      <th>1</th>\n",
       "      <td>2020-01-22</td>\n",
       "      <td>1</td>\n",
       "      <td>0</td>\n",
       "      <td>0</td>\n",
       "      <td>0</td>\n",
       "    </tr>\n",
       "    <tr>\n",
       "      <th>2</th>\n",
       "      <td>2020-01-23</td>\n",
       "      <td>1</td>\n",
       "      <td>0</td>\n",
       "      <td>0</td>\n",
       "      <td>0</td>\n",
       "    </tr>\n",
       "    <tr>\n",
       "      <th>3</th>\n",
       "      <td>2020-01-24</td>\n",
       "      <td>2</td>\n",
       "      <td>0</td>\n",
       "      <td>1</td>\n",
       "      <td>0</td>\n",
       "    </tr>\n",
       "    <tr>\n",
       "      <th>4</th>\n",
       "      <td>2020-01-25</td>\n",
       "      <td>3</td>\n",
       "      <td>0</td>\n",
       "      <td>1</td>\n",
       "      <td>0</td>\n",
       "    </tr>\n",
       "  </tbody>\n",
       "</table>\n",
       "</div>"
      ],
      "text/plain": [
       "        date  cases  deaths  daily_cases  daily_deaths\n",
       "0 2020-01-21      1       0            1             0\n",
       "1 2020-01-22      1       0            0             0\n",
       "2 2020-01-23      1       0            0             0\n",
       "3 2020-01-24      2       0            1             0\n",
       "4 2020-01-25      3       0            1             0"
      ]
     },
     "execution_count": 19,
     "metadata": {},
     "output_type": "execute_result"
    }
   ],
   "source": [
    "# Change the date column from character format to date format\n",
    "us['date'] = pd.to_datetime(us['date'])\n",
    "\n",
    "# Calculate the daily cases and daily deaths\n",
    "us['daily_cases'] = np.concatenate(([us['cases'].iloc[0]], np.diff(us['cases'])))\n",
    "us['daily_deaths'] = np.concatenate(([us['deaths'].iloc[0]], np.diff(us['deaths'])))\n",
    "us.head()"
   ]
  },
  {
   "cell_type": "code",
   "execution_count": 27,
   "metadata": {},
   "outputs": [],
   "source": [
    "# Save data\n",
    "us.to_csv(f\"{saved_data_pth}/us.csv\", index=False)"
   ]
  },
  {
   "cell_type": "markdown",
   "metadata": {},
   "source": [
    "### Data Exploration"
   ]
  },
  {
   "cell_type": "markdown",
   "metadata": {},
   "source": [
    "#### Heatmap"
   ]
  },
  {
   "cell_type": "code",
   "execution_count": 33,
   "metadata": {},
   "outputs": [
    {
     "data": {
      "text/html": [
       "<div>\n",
       "<style scoped>\n",
       "    .dataframe tbody tr th:only-of-type {\n",
       "        vertical-align: middle;\n",
       "    }\n",
       "\n",
       "    .dataframe tbody tr th {\n",
       "        vertical-align: top;\n",
       "    }\n",
       "\n",
       "    .dataframe thead th {\n",
       "        text-align: right;\n",
       "    }\n",
       "</style>\n",
       "<table border=\"1\" class=\"dataframe\">\n",
       "  <thead>\n",
       "    <tr style=\"text-align: right;\">\n",
       "      <th></th>\n",
       "      <th>Date</th>\n",
       "      <th>State</th>\n",
       "      <th>fips</th>\n",
       "      <th>Total_Cases</th>\n",
       "      <th>Total_Deaths</th>\n",
       "      <th>daily_cases</th>\n",
       "      <th>daily_deaths</th>\n",
       "      <th>Region</th>\n",
       "      <th>year</th>\n",
       "    </tr>\n",
       "  </thead>\n",
       "  <tbody>\n",
       "    <tr>\n",
       "      <th>0</th>\n",
       "      <td>2020-01-21</td>\n",
       "      <td>Washington</td>\n",
       "      <td>53</td>\n",
       "      <td>1</td>\n",
       "      <td>0</td>\n",
       "      <td>1.0</td>\n",
       "      <td>0.0</td>\n",
       "      <td>West</td>\n",
       "      <td>2020</td>\n",
       "    </tr>\n",
       "    <tr>\n",
       "      <th>1</th>\n",
       "      <td>2020-01-22</td>\n",
       "      <td>Washington</td>\n",
       "      <td>53</td>\n",
       "      <td>1</td>\n",
       "      <td>0</td>\n",
       "      <td>0.0</td>\n",
       "      <td>0.0</td>\n",
       "      <td>West</td>\n",
       "      <td>2020</td>\n",
       "    </tr>\n",
       "    <tr>\n",
       "      <th>2</th>\n",
       "      <td>2020-01-23</td>\n",
       "      <td>Washington</td>\n",
       "      <td>53</td>\n",
       "      <td>1</td>\n",
       "      <td>0</td>\n",
       "      <td>0.0</td>\n",
       "      <td>0.0</td>\n",
       "      <td>West</td>\n",
       "      <td>2020</td>\n",
       "    </tr>\n",
       "    <tr>\n",
       "      <th>3</th>\n",
       "      <td>2020-01-24</td>\n",
       "      <td>Illinois</td>\n",
       "      <td>17</td>\n",
       "      <td>1</td>\n",
       "      <td>0</td>\n",
       "      <td>1.0</td>\n",
       "      <td>0.0</td>\n",
       "      <td>Midwest</td>\n",
       "      <td>2020</td>\n",
       "    </tr>\n",
       "    <tr>\n",
       "      <th>4</th>\n",
       "      <td>2020-01-24</td>\n",
       "      <td>Washington</td>\n",
       "      <td>53</td>\n",
       "      <td>1</td>\n",
       "      <td>0</td>\n",
       "      <td>0.0</td>\n",
       "      <td>0.0</td>\n",
       "      <td>West</td>\n",
       "      <td>2020</td>\n",
       "    </tr>\n",
       "  </tbody>\n",
       "</table>\n",
       "</div>"
      ],
      "text/plain": [
       "        Date       State  fips  Total_Cases  Total_Deaths  daily_cases  \\\n",
       "0 2020-01-21  Washington    53            1             0          1.0   \n",
       "1 2020-01-22  Washington    53            1             0          0.0   \n",
       "2 2020-01-23  Washington    53            1             0          0.0   \n",
       "3 2020-01-24    Illinois    17            1             0          1.0   \n",
       "4 2020-01-24  Washington    53            1             0          0.0   \n",
       "\n",
       "   daily_deaths   Region  year  \n",
       "0           0.0     West  2020  \n",
       "1           0.0     West  2020  \n",
       "2           0.0     West  2020  \n",
       "3           0.0  Midwest  2020  \n",
       "4           0.0     West  2020  "
      ]
     },
     "execution_count": 33,
     "metadata": {},
     "output_type": "execute_result"
    }
   ],
   "source": [
    "states['year'] = states['Date'].dt.year\n",
    "states.head()"
   ]
  },
  {
   "cell_type": "code",
   "execution_count": 37,
   "metadata": {},
   "outputs": [],
   "source": [
    "# Convert numbers from scientific notation to normal notation\n",
    "pd.set_option('display.float_format', lambda x: '%.6f' % x)"
   ]
  },
  {
   "cell_type": "code",
   "execution_count": 40,
   "metadata": {},
   "outputs": [
    {
     "data": {
      "text/html": [
       "<div>\n",
       "<style scoped>\n",
       "    .dataframe tbody tr th:only-of-type {\n",
       "        vertical-align: middle;\n",
       "    }\n",
       "\n",
       "    .dataframe tbody tr th {\n",
       "        vertical-align: top;\n",
       "    }\n",
       "\n",
       "    .dataframe thead th {\n",
       "        text-align: right;\n",
       "    }\n",
       "</style>\n",
       "<table border=\"1\" class=\"dataframe\">\n",
       "  <thead>\n",
       "    <tr style=\"text-align: right;\">\n",
       "      <th></th>\n",
       "      <th>year</th>\n",
       "      <th>State</th>\n",
       "      <th>Total_Cases</th>\n",
       "    </tr>\n",
       "  </thead>\n",
       "  <tbody>\n",
       "    <tr>\n",
       "      <th>0</th>\n",
       "      <td>2020</td>\n",
       "      <td>Alabama</td>\n",
       "      <td>109646.258503</td>\n",
       "    </tr>\n",
       "    <tr>\n",
       "      <th>1</th>\n",
       "      <td>2020</td>\n",
       "      <td>Alaska</td>\n",
       "      <td>9675.006780</td>\n",
       "    </tr>\n",
       "    <tr>\n",
       "      <th>2</th>\n",
       "      <td>2020</td>\n",
       "      <td>Arizona</td>\n",
       "      <td>138261.225806</td>\n",
       "    </tr>\n",
       "    <tr>\n",
       "      <th>3</th>\n",
       "      <td>2020</td>\n",
       "      <td>Arkansas</td>\n",
       "      <td>62183.675676</td>\n",
       "    </tr>\n",
       "    <tr>\n",
       "      <th>4</th>\n",
       "      <td>2020</td>\n",
       "      <td>California</td>\n",
       "      <td>511605.777778</td>\n",
       "    </tr>\n",
       "  </tbody>\n",
       "</table>\n",
       "</div>"
      ],
      "text/plain": [
       "   year       State   Total_Cases\n",
       "0  2020     Alabama 109646.258503\n",
       "1  2020      Alaska   9675.006780\n",
       "2  2020     Arizona 138261.225806\n",
       "3  2020    Arkansas  62183.675676\n",
       "4  2020  California 511605.777778"
      ]
     },
     "execution_count": 40,
     "metadata": {},
     "output_type": "execute_result"
    }
   ],
   "source": [
    "states_by_yr_avg = states.groupby(['year', 'State'])[['Total_Cases']].mean().reset_index()\n",
    "states_by_yr_avg.head()"
   ]
  },
  {
   "cell_type": "code",
   "execution_count": 42,
   "metadata": {},
   "outputs": [
    {
     "data": {
      "text/html": [
       "\n",
       "<style>\n",
       "  #altair-viz-76adf314ad4f4f15b52f4703622b8fbc.vega-embed {\n",
       "    width: 100%;\n",
       "    display: flex;\n",
       "  }\n",
       "\n",
       "  #altair-viz-76adf314ad4f4f15b52f4703622b8fbc.vega-embed details,\n",
       "  #altair-viz-76adf314ad4f4f15b52f4703622b8fbc.vega-embed details summary {\n",
       "    position: relative;\n",
       "  }\n",
       "</style>\n",
       "<div id=\"altair-viz-76adf314ad4f4f15b52f4703622b8fbc\"></div>\n",
       "<script type=\"text/javascript\">\n",
       "  var VEGA_DEBUG = (typeof VEGA_DEBUG == \"undefined\") ? {} : VEGA_DEBUG;\n",
       "  (function(spec, embedOpt){\n",
       "    let outputDiv = document.currentScript.previousElementSibling;\n",
       "    if (outputDiv.id !== \"altair-viz-76adf314ad4f4f15b52f4703622b8fbc\") {\n",
       "      outputDiv = document.getElementById(\"altair-viz-76adf314ad4f4f15b52f4703622b8fbc\");\n",
       "    }\n",
       "    const paths = {\n",
       "      \"vega\": \"https://cdn.jsdelivr.net/npm/vega@5?noext\",\n",
       "      \"vega-lib\": \"https://cdn.jsdelivr.net/npm/vega-lib?noext\",\n",
       "      \"vega-lite\": \"https://cdn.jsdelivr.net/npm/vega-lite@5.16.3?noext\",\n",
       "      \"vega-embed\": \"https://cdn.jsdelivr.net/npm/vega-embed@6?noext\",\n",
       "    };\n",
       "\n",
       "    function maybeLoadScript(lib, version) {\n",
       "      var key = `${lib.replace(\"-\", \"\")}_version`;\n",
       "      return (VEGA_DEBUG[key] == version) ?\n",
       "        Promise.resolve(paths[lib]) :\n",
       "        new Promise(function(resolve, reject) {\n",
       "          var s = document.createElement('script');\n",
       "          document.getElementsByTagName(\"head\")[0].appendChild(s);\n",
       "          s.async = true;\n",
       "          s.onload = () => {\n",
       "            VEGA_DEBUG[key] = version;\n",
       "            return resolve(paths[lib]);\n",
       "          };\n",
       "          s.onerror = () => reject(`Error loading script: ${paths[lib]}`);\n",
       "          s.src = paths[lib];\n",
       "        });\n",
       "    }\n",
       "\n",
       "    function showError(err) {\n",
       "      outputDiv.innerHTML = `<div class=\"error\" style=\"color:red;\">${err}</div>`;\n",
       "      throw err;\n",
       "    }\n",
       "\n",
       "    function displayChart(vegaEmbed) {\n",
       "      vegaEmbed(outputDiv, spec, embedOpt)\n",
       "        .catch(err => showError(`Javascript Error: ${err.message}<br>This usually means there's a typo in your chart specification. See the javascript console for the full traceback.`));\n",
       "    }\n",
       "\n",
       "    if(typeof define === \"function\" && define.amd) {\n",
       "      requirejs.config({paths});\n",
       "      require([\"vega-embed\"], displayChart, err => showError(`Error loading script: ${err.message}`));\n",
       "    } else {\n",
       "      maybeLoadScript(\"vega\", \"5\")\n",
       "        .then(() => maybeLoadScript(\"vega-lite\", \"5.16.3\"))\n",
       "        .then(() => maybeLoadScript(\"vega-embed\", \"6\"))\n",
       "        .catch(showError)\n",
       "        .then(() => displayChart(vegaEmbed));\n",
       "    }\n",
       "  })({\"usermeta\": {\"embedOptions\": {\"theme\": \"dark\"}}, \"config\": {\"view\": {\"continuousWidth\": 300, \"continuousHeight\": 300}, \"axis\": {\"labelFontSize\": 12, \"titleFontSize\": 12}}, \"data\": {\"name\": \"data-1818e8a5771ae6cfe958a048c5209400\"}, \"mark\": {\"type\": \"rect\"}, \"encoding\": {\"color\": {\"aggregate\": \"max\", \"field\": \"Total_Cases\", \"legend\": {\"title\": \" \"}, \"scale\": {\"scheme\": \"blueorange\"}, \"type\": \"quantitative\"}, \"stroke\": {\"value\": \"black\"}, \"strokeWidth\": {\"value\": 0.25}, \"x\": {\"axis\": {\"title\": \"States\", \"titleFontSize\": 16, \"titleFontWeight\": 900, \"titlePadding\": 15}, \"field\": \"State\", \"type\": \"ordinal\"}, \"y\": {\"axis\": {\"labelAngle\": 0, \"title\": \"Year\", \"titleFontSize\": 16, \"titleFontWeight\": 900, \"titlePadding\": 15}, \"field\": \"year\", \"type\": \"ordinal\"}}, \"width\": 900, \"$schema\": \"https://vega.github.io/schema/vega-lite/v5.16.3.json\", \"datasets\": {\"data-1818e8a5771ae6cfe958a048c5209400\": [{\"year\": 2020, \"State\": \"Alabama\", \"Total_Cases\": 109646.25850340136}, {\"year\": 2020, \"State\": \"Alaska\", \"Total_Cases\": 9675.006779661016}, {\"year\": 2020, \"State\": \"Arizona\", \"Total_Cases\": 138261.2258064516}, {\"year\": 2020, \"State\": \"Arkansas\", \"Total_Cases\": 62183.67567567567}, {\"year\": 2020, \"State\": \"California\", \"Total_Cases\": 511605.77777777775}, {\"year\": 2020, \"State\": \"Colorado\", \"Total_Cases\": 77622.62913907284}, {\"year\": 2020, \"State\": \"Connecticut\", \"Total_Cases\": 57572.67892976588}, {\"year\": 2020, \"State\": \"Delaware\", \"Total_Cases\": 17413.43581081081}, {\"year\": 2020, \"State\": \"District of Columbia\", \"Total_Cases\": 12148.736666666666}, {\"year\": 2020, \"State\": \"Florida\", \"Total_Cases\": 451382.7875816993}, {\"year\": 2020, \"State\": \"Georgia\", \"Total_Cases\": 204033.4295081967}, {\"year\": 2020, \"State\": \"Guam\", \"Total_Cases\": 2977.2157534246576}, {\"year\": 2020, \"State\": \"Hawaii\", \"Total_Cases\": 7074.594684385382}, {\"year\": 2020, \"State\": \"Idaho\", \"Total_Cases\": 36083.87074829932}, {\"year\": 2020, \"State\": \"Illinois\", \"Total_Cases\": 239412.02332361517}, {\"year\": 2020, \"State\": \"Indiana\", \"Total_Cases\": 119426.43521594684}, {\"year\": 2020, \"State\": \"Iowa\", \"Total_Cases\": 77818.46153846153}, {\"year\": 2020, \"State\": \"Kansas\", \"Total_Cases\": 53160.09}, {\"year\": 2020, \"State\": \"Kentucky\", \"Total_Cases\": 62463.67441860465}, {\"year\": 2020, \"State\": \"Louisiana\", \"Total_Cases\": 117841.40604026846}, {\"year\": 2020, \"State\": \"Maine\", \"Total_Cases\": 5259.016949152542}, {\"year\": 2020, \"State\": \"Maryland\", \"Total_Cases\": 96526.43708609272}, {\"year\": 2020, \"State\": \"Massachusetts\", \"Total_Cases\": 111699.40597014925}, {\"year\": 2020, \"State\": \"Michigan\", \"Total_Cases\": 141794.11447811447}, {\"year\": 2020, \"State\": \"Minnesota\", \"Total_Cases\": 99230.52159468438}, {\"year\": 2020, \"State\": \"Mississippi\", \"Total_Cases\": 69260.13175675676}, {\"year\": 2020, \"State\": \"Missouri\", \"Total_Cases\": 104897.77333333333}, {\"year\": 2020, \"State\": \"Montana\", \"Total_Cases\": 17031.91156462585}, {\"year\": 2020, \"State\": \"Nebraska\", \"Total_Cases\": 41248.98746081505}, {\"year\": 2020, \"State\": \"Nevada\", \"Total_Cases\": 60552.05960264901}, {\"year\": 2020, \"State\": \"New Hampshire\", \"Total_Cases\": 8933.459016393443}, {\"year\": 2020, \"State\": \"New Jersey\", \"Total_Cases\": 189449.85478547856}, {\"year\": 2020, \"State\": \"New Mexico\", \"Total_Cases\": 32387.405405405407}, {\"year\": 2020, \"State\": \"New York\", \"Total_Cases\": 412770.8431372549}, {\"year\": 2020, \"State\": \"North Carolina\", \"Total_Cases\": 152323.63157894736}, {\"year\": 2020, \"State\": \"North Dakota\", \"Total_Cases\": 22574.993243243243}, {\"year\": 2020, \"State\": \"Northern Mariana Islands\", \"Total_Cases\": 55.52329749103943}, {\"year\": 2020, \"State\": \"Ohio\", \"Total_Cases\": 150621.55704697987}, {\"year\": 2020, \"State\": \"Oklahoma\", \"Total_Cases\": 68147.97342192692}, {\"year\": 2020, \"State\": \"Oregon\", \"Total_Cases\": 27089.616883116883}, {\"year\": 2020, \"State\": \"Pennsylvania\", \"Total_Cases\": 157159.33222591362}, {\"year\": 2020, \"State\": \"Puerto Rico\", \"Total_Cases\": 33096.64965986394}, {\"year\": 2020, \"State\": \"Rhode Island\", \"Total_Cases\": 24042.5522875817}, {\"year\": 2020, \"State\": \"South Carolina\", \"Total_Cases\": 97412.6245847176}, {\"year\": 2020, \"State\": \"South Dakota\", \"Total_Cases\": 24307.936026936026}, {\"year\": 2020, \"State\": \"Tennessee\", \"Total_Cases\": 145153.03311258278}, {\"year\": 2020, \"State\": \"Texas\", \"Total_Cases\": 494318.3024691358}, {\"year\": 2020, \"State\": \"Utah\", \"Total_Cases\": 64313.826366559486}, {\"year\": 2020, \"State\": \"Vermont\", \"Total_Cases\": 1870.1833333333334}, {\"year\": 2020, \"State\": \"Virgin Islands\", \"Total_Cases\": 738.2593856655291}, {\"year\": 2020, \"State\": \"Virginia\", \"Total_Cases\": 109501.80333333333}, {\"year\": 2020, \"State\": \"Washington\", \"Total_Cases\": 63402.60982658959}, {\"year\": 2020, \"State\": \"West Virginia\", \"Total_Cases\": 16142.86551724138}, {\"year\": 2020, \"State\": \"Wisconsin\", \"Total_Cases\": 114800.02719033233}, {\"year\": 2020, \"State\": \"Wyoming\", \"Total_Cases\": 8754.891891891892}, {\"year\": 2021, \"State\": \"Alabama\", \"Total_Cases\": 624065.2410958904}, {\"year\": 2021, \"State\": \"Alaska\", \"Total_Cases\": 87545.01095890411}, {\"year\": 2021, \"State\": \"American Samoa\", \"Total_Cases\": 5.574257425742574}, {\"year\": 2021, \"State\": \"Arizona\", \"Total_Cases\": 960222.9698630137}, {\"year\": 2021, \"State\": \"Arkansas\", \"Total_Cases\": 396678.11780821916}, {\"year\": 2021, \"State\": \"California\", \"Total_Cases\": 4099897.35890411}, {\"year\": 2021, \"State\": \"Colorado\", \"Total_Cases\": 584518.501369863}, {\"year\": 2021, \"State\": \"Connecticut\", \"Total_Cases\": 347682.00821917807}, {\"year\": 2021, \"State\": \"Delaware\", \"Total_Cases\": 113769.0794520548}, {\"year\": 2021, \"State\": \"District of Columbia\", \"Total_Cases\": 51963.468493150685}, {\"year\": 2021, \"State\": \"Florida\", \"Total_Cases\": 2668959.208219178}, {\"year\": 2021, \"State\": \"Georgia\", \"Total_Cases\": 1225732.1315068493}, {\"year\": 2021, \"State\": \"Guam\", \"Total_Cases\": 12043.465753424658}, {\"year\": 2021, \"State\": \"Hawaii\", \"Total_Cases\": 49513.52328767123}, {\"year\": 2021, \"State\": \"Idaho\", \"Total_Cases\": 217140.0684931507}, {\"year\": 2021, \"State\": \"Illinois\", \"Total_Cases\": 1446456.4246575343}, {\"year\": 2021, \"State\": \"Indiana\", \"Total_Cases\": 820958.4849315068}, {\"year\": 2021, \"State\": \"Iowa\", \"Total_Cases\": 400581.80273972603}, {\"year\": 2021, \"State\": \"Kansas\", \"Total_Cases\": 352633.21643835615}, {\"year\": 2021, \"State\": \"Kentucky\", \"Total_Cases\": 538814.9479452055}, {\"year\": 2021, \"State\": \"Louisiana\", \"Total_Cases\": 563831.9890410958}, {\"year\": 2021, \"State\": \"Maine\", \"Total_Cases\": 73573.08767123288}, {\"year\": 2021, \"State\": \"Maryland\", \"Total_Cases\": 470289.8904109589}, {\"year\": 2021, \"State\": \"Massachusetts\", \"Total_Cases\": 722283.5780821918}, {\"year\": 2021, \"State\": \"Michigan\", \"Total_Cases\": 1004425.5287671232}, {\"year\": 2021, \"State\": \"Minnesota\", \"Total_Cases\": 638996.8575342465}, {\"year\": 2021, \"State\": \"Mississippi\", \"Total_Cases\": 375050.1890410959}, {\"year\": 2021, \"State\": \"Missouri\", \"Total_Cases\": 693420.098630137}, {\"year\": 2021, \"State\": \"Montana\", \"Total_Cases\": 128321.7698630137}, {\"year\": 2021, \"State\": \"Nebraska\", \"Total_Cases\": 238669.73698630137}, {\"year\": 2021, \"State\": \"Nevada\", \"Total_Cases\": 359659.48493150686}, {\"year\": 2021, \"State\": \"New Hampshire\", \"Total_Cases\": 105746.03561643836}, {\"year\": 2021, \"State\": \"New Jersey\", \"Total_Cases\": 1015788.4082191781}, {\"year\": 2021, \"State\": \"New Mexico\", \"Total_Cases\": 224862.81643835615}, {\"year\": 2021, \"State\": \"New York\", \"Total_Cases\": 2125380.9178082193}, {\"year\": 2021, \"State\": \"North Carolina\", \"Total_Cases\": 1111456.002739726}, {\"year\": 2021, \"State\": \"North Dakota\", \"Total_Cases\": 119719.69863013699}, {\"year\": 2021, \"State\": \"Northern Mariana Islands\", \"Total_Cases\": 370.56986301369864}, {\"year\": 2021, \"State\": \"Ohio\", \"Total_Cases\": 1212316.0465753425}, {\"year\": 2021, \"State\": \"Oklahoma\", \"Total_Cases\": 507154.701369863}, {\"year\": 2021, \"State\": \"Oregon\", \"Total_Cases\": 243150.5780821918}, {\"year\": 2021, \"State\": \"Pennsylvania\", \"Total_Cases\": 1252447.3232876712}, {\"year\": 2021, \"State\": \"Puerto Rico\", \"Total_Cases\": 178296.21643835618}, {\"year\": 2021, \"State\": \"Rhode Island\", \"Total_Cases\": 154438.5397260274}, {\"year\": 2021, \"State\": \"South Carolina\", \"Total_Cases\": 663684.0328767124}, {\"year\": 2021, \"State\": \"South Dakota\", \"Total_Cases\": 131215.87397260274}, {\"year\": 2021, \"State\": \"Tennessee\", \"Total_Cases\": 954905.1424657535}, {\"year\": 2021, \"State\": \"Texas\", \"Total_Cases\": 3274080.21369863}, {\"year\": 2021, \"State\": \"Utah\", \"Total_Cases\": 445605.5232876712}, {\"year\": 2021, \"State\": \"Vermont\", \"Total_Cases\": 27703.986301369863}, {\"year\": 2021, \"State\": \"Virgin Islands\", \"Total_Cases\": 4630.482191780822}, {\"year\": 2021, \"State\": \"Virginia\", \"Total_Cases\": 722761.8876712329}, {\"year\": 2021, \"State\": \"Washington\", \"Total_Cases\": 508042.7068493151}, {\"year\": 2021, \"State\": \"West Virginia\", \"Total_Cases\": 187804.24383561645}, {\"year\": 2021, \"State\": \"Wisconsin\", \"Total_Cases\": 732360.495890411}, {\"year\": 2021, \"State\": \"Wyoming\", \"Total_Cases\": 72570.15890410959}, {\"year\": 2022, \"State\": \"Alabama\", \"Total_Cases\": 1377757.493150685}, {\"year\": 2022, \"State\": \"Alaska\", \"Total_Cases\": 265123.0273972603}, {\"year\": 2022, \"State\": \"American Samoa\", \"Total_Cases\": 5540.465753424657}, {\"year\": 2022, \"State\": \"Arizona\", \"Total_Cases\": 2107995.293150685}, {\"year\": 2022, \"State\": \"Arkansas\", \"Total_Cases\": 873840.202739726}, {\"year\": 2022, \"State\": \"California\", \"Total_Cases\": 10021548.652054794}, {\"year\": 2022, \"State\": \"Colorado\", \"Total_Cases\": 1498392.5698630137}, {\"year\": 2022, \"State\": \"Connecticut\", \"Total_Cases\": 815776.0657534247}, {\"year\": 2022, \"State\": \"Delaware\", \"Total_Cases\": 282142.49589041097}, {\"year\": 2022, \"State\": \"District of Columbia\", \"Total_Cases\": 152595.50410958903}, {\"year\": 2022, \"State\": \"Florida\", \"Total_Cases\": 6418816.408219178}, {\"year\": 2022, \"State\": \"Georgia\", \"Total_Cases\": 2583010.7260273974}, {\"year\": 2022, \"State\": \"Guam\", \"Total_Cases\": 51257.52876712329}, {\"year\": 2022, \"State\": \"Hawaii\", \"Total_Cases\": 286937.098630137}, {\"year\": 2022, \"State\": \"Idaho\", \"Total_Cases\": 458629.5808219178}, {\"year\": 2022, \"State\": \"Illinois\", \"Total_Cases\": 3403654.4657534244}, {\"year\": 2022, \"State\": \"Indiana\", \"Total_Cases\": 1784880.9369863013}, {\"year\": 2022, \"State\": \"Iowa\", \"Total_Cases\": 796637.7808219178}, {\"year\": 2022, \"State\": \"Kansas\", \"Total_Cases\": 811658.2904109589}, {\"year\": 2022, \"State\": \"Kentucky\", \"Total_Cases\": 1421534.5589041095}, {\"year\": 2022, \"State\": \"Louisiana\", \"Total_Cases\": 1318789.090410959}, {\"year\": 2022, \"State\": \"Maine\", \"Total_Cases\": 257889.04657534248}, {\"year\": 2022, \"State\": \"Maryland\", \"Total_Cases\": 1125547.997260274}, {\"year\": 2022, \"State\": \"Massachusetts\", \"Total_Cases\": 1872971.6712328766}, {\"year\": 2022, \"State\": \"Michigan\", \"Total_Cases\": 2587279.9452054794}, {\"year\": 2022, \"State\": \"Minnesota\", \"Total_Cases\": 1530365.6821917808}, {\"year\": 2022, \"State\": \"Mississippi\", \"Total_Cases\": 842996.104109589}, {\"year\": 2022, \"State\": \"Missouri\", \"Total_Cases\": 1525859.5726027398}, {\"year\": 2022, \"State\": \"Montana\", \"Total_Cases\": 285818.08493150683}, {\"year\": 2022, \"State\": \"Nebraska\", \"Total_Cases\": 497336.3178082192}, {\"year\": 2022, \"State\": \"Nevada\", \"Total_Cases\": 767588.498630137}, {\"year\": 2022, \"State\": \"New Hampshire\", \"Total_Cases\": 323848.78356164385}, {\"year\": 2022, \"State\": \"New Jersey\", \"Total_Cases\": 2471856.8438356165}, {\"year\": 2022, \"State\": \"New Mexico\", \"Total_Cases\": 561483.3808219178}, {\"year\": 2022, \"State\": \"New York\", \"Total_Cases\": 5556965.704109589}, {\"year\": 2022, \"State\": \"North Carolina\", \"Total_Cases\": 2856742.2547945203}, {\"year\": 2022, \"State\": \"North Dakota\", \"Total_Cases\": 250669.27397260274}, {\"year\": 2022, \"State\": \"Northern Mariana Islands\", \"Total_Cases\": 11191.342465753425}, {\"year\": 2022, \"State\": \"Ohio\", \"Total_Cases\": 2876821.8684931505}, {\"year\": 2022, \"State\": \"Oklahoma\", \"Total_Cases\": 1091500.0931506848}, {\"year\": 2022, \"State\": \"Oregon\", \"Total_Cases\": 790407.1397260274}, {\"year\": 2022, \"State\": \"Pennsylvania\", \"Total_Cases\": 2996185.1506849313}, {\"year\": 2022, \"State\": \"Puerto Rico\", \"Total_Cases\": 769984.0}, {\"year\": 2022, \"State\": \"Rhode Island\", \"Total_Cases\": 392200.55342465756}, {\"year\": 2022, \"State\": \"South Carolina\", \"Total_Cases\": 1555786.5232876712}, {\"year\": 2022, \"State\": \"South Dakota\", \"Total_Cases\": 246089.45753424658}, {\"year\": 2022, \"State\": \"Tennessee\", \"Total_Cases\": 2084103.8657534246}, {\"year\": 2022, \"State\": \"Texas\", \"Total_Cases\": 7142396.589041096}, {\"year\": 2022, \"State\": \"Utah\", \"Total_Cases\": 971213.1506849315}, {\"year\": 2022, \"State\": \"Vermont\", \"Total_Cases\": 129045.17534246575}, {\"year\": 2022, \"State\": \"Virgin Islands\", \"Total_Cases\": 19617.88767123288}, {\"year\": 2022, \"State\": \"Virginia\", \"Total_Cases\": 1857283.0684931506}, {\"year\": 2022, \"State\": \"Washington\", \"Total_Cases\": 1614567.2383561644}, {\"year\": 2022, \"State\": \"West Virginia\", \"Total_Cases\": 536123.5808219179}, {\"year\": 2022, \"State\": \"Wisconsin\", \"Total_Cases\": 1713625.6739726027}, {\"year\": 2022, \"State\": \"Wyoming\", \"Total_Cases\": 164049.49863013698}, {\"year\": 2023, \"State\": \"Alabama\", \"Total_Cases\": 1621337.524390244}, {\"year\": 2023, \"State\": \"Alaska\", \"Total_Cases\": 305384.3780487805}, {\"year\": 2023, \"State\": \"American Samoa\", \"Total_Cases\": 8310.5}, {\"year\": 2023, \"State\": \"Arizona\", \"Total_Cases\": 2413272.573170732}, {\"year\": 2023, \"State\": \"Arkansas\", \"Total_Cases\": 999150.768292683}, {\"year\": 2023, \"State\": \"California\", \"Total_Cases\": 12022499.402439024}, {\"year\": 2023, \"State\": \"Colorado\", \"Total_Cases\": 1753697.3658536586}, {\"year\": 2023, \"State\": \"Connecticut\", \"Total_Cases\": 968468.1585365854}, {\"year\": 2023, \"State\": \"Delaware\", \"Total_Cases\": 327810.6951219512}, {\"year\": 2023, \"State\": \"District of Columbia\", \"Total_Cases\": 176496.01219512196}, {\"year\": 2023, \"State\": \"Florida\", \"Total_Cases\": 7437585.841463415}, {\"year\": 2023, \"State\": \"Georgia\", \"Total_Cases\": 2951911.5853658537}, {\"year\": 2023, \"State\": \"Guam\", \"Total_Cases\": 61688.54878048781}, {\"year\": 2023, \"State\": \"Hawaii\", \"Total_Cases\": 368722.1219512195}, {\"year\": 2023, \"State\": \"Idaho\", \"Total_Cases\": 517067.31707317074}, {\"year\": 2023, \"State\": \"Illinois\", \"Total_Cases\": 4044095.7682926827}, {\"year\": 2023, \"State\": \"Indiana\", \"Total_Cases\": 2033215.5853658537}, {\"year\": 2023, \"State\": \"Iowa\", \"Total_Cases\": 897114.731707317}, {\"year\": 2023, \"State\": \"Kansas\", \"Total_Cases\": 930049.0609756098}, {\"year\": 2023, \"State\": \"Kentucky\", \"Total_Cases\": 1696959.4268292682}, {\"year\": 2023, \"State\": \"Louisiana\", \"Total_Cases\": 1551356.6219512196}, {\"year\": 2023, \"State\": \"Maine\", \"Total_Cases\": 313423.1341463415}, {\"year\": 2023, \"State\": \"Maryland\", \"Total_Cases\": 1350131.9268292682}, {\"year\": 2023, \"State\": \"Massachusetts\", \"Total_Cases\": 2200939.1341463416}, {\"year\": 2023, \"State\": \"Michigan\", \"Total_Cases\": 3027584.1341463416}, {\"year\": 2023, \"State\": \"Minnesota\", \"Total_Cases\": 1760842.6585365853}, {\"year\": 2023, \"State\": \"Mississippi\", \"Total_Cases\": 978610.7073170731}, {\"year\": 2023, \"State\": \"Missouri\", \"Total_Cases\": 1772209.012195122}, {\"year\": 2023, \"State\": \"Montana\", \"Total_Cases\": 327212.2926829268}, {\"year\": 2023, \"State\": \"Nebraska\", \"Total_Cases\": 563438.5365853659}, {\"year\": 2023, \"State\": \"Nevada\", \"Total_Cases\": 884691.1951219512}, {\"year\": 2023, \"State\": \"New Hampshire\", \"Total_Cases\": 374645.76829268294}, {\"year\": 2023, \"State\": \"New Jersey\", \"Total_Cases\": 3011520.3536585364}, {\"year\": 2023, \"State\": \"New Mexico\", \"Total_Cases\": 666501.0}, {\"year\": 2023, \"State\": \"New York\", \"Total_Cases\": 6720682.548780488}, {\"year\": 2023, \"State\": \"North Carolina\", \"Total_Cases\": 3428292.963414634}, {\"year\": 2023, \"State\": \"North Dakota\", \"Total_Cases\": 284354.2073170732}, {\"year\": 2023, \"State\": \"Northern Mariana Islands\", \"Total_Cases\": 13381.426829268292}, {\"year\": 2023, \"State\": \"Ohio\", \"Total_Cases\": 3363190.6585365855}, {\"year\": 2023, \"State\": \"Oklahoma\", \"Total_Cases\": 1275704.0731707318}, {\"year\": 2023, \"State\": \"Oregon\", \"Total_Cases\": 953821.5975609756}, {\"year\": 2023, \"State\": \"Pennsylvania\", \"Total_Cases\": 3487153.475609756}, {\"year\": 2023, \"State\": \"Puerto Rico\", \"Total_Cases\": 1119777.1829268292}, {\"year\": 2023, \"State\": \"Rhode Island\", \"Total_Cases\": 455643.4146341463}, {\"year\": 2023, \"State\": \"South Carolina\", \"Total_Cases\": 1815058.036585366}, {\"year\": 2023, \"State\": \"South Dakota\", \"Total_Cases\": 275847.35365853657}, {\"year\": 2023, \"State\": \"Tennessee\", \"Total_Cases\": 2416866.7317073173}, {\"year\": 2023, \"State\": \"Texas\", \"Total_Cases\": 8278156.719512195}, {\"year\": 2023, \"State\": \"Utah\", \"Total_Cases\": 1084277.536585366}, {\"year\": 2023, \"State\": \"Vermont\", \"Total_Cases\": 150944.34146341463}, {\"year\": 2023, \"State\": \"Virgin Islands\", \"Total_Cases\": 24498.256097560974}, {\"year\": 2023, \"State\": \"Virginia\", \"Total_Cases\": 2266296.8048780486}, {\"year\": 2023, \"State\": \"Washington\", \"Total_Cases\": 1913306.5975609757}, {\"year\": 2023, \"State\": \"West Virginia\", \"Total_Cases\": 636619.6951219512}, {\"year\": 2023, \"State\": \"Wisconsin\", \"Total_Cases\": 1989402.6097560977}, {\"year\": 2023, \"State\": \"Wyoming\", \"Total_Cases\": 184278.89024390245}]}}, {\"mode\": \"vega-lite\"});\n",
       "</script>"
      ],
      "text/plain": [
       "alt.Chart(...)"
      ]
     },
     "execution_count": 42,
     "metadata": {},
     "output_type": "execute_result"
    }
   ],
   "source": [
    "alt.themes.enable(\"dark\")\n",
    "\n",
    "heatmap = alt.Chart(states_by_yr_avg).mark_rect().encode(\n",
    "        y=alt.Y('year:O', axis=alt.Axis(title=\"Year\", titleFontSize=16, titlePadding=15, titleFontWeight=900, labelAngle=0)),\n",
    "        x=alt.X('State:O', axis=alt.Axis(title=\"States\", titleFontSize=16, titlePadding=15, titleFontWeight=900)),\n",
    "        color=alt.Color('max(Total_Cases):Q',\n",
    "                         legend=alt.Legend(title=\" \"),\n",
    "                         scale=alt.Scale(scheme=\"blueorange\")),\n",
    "        stroke=alt.value('black'),\n",
    "        strokeWidth=alt.value(0.25),\n",
    "    ).properties(width=900\n",
    "    ).configure_axis(\n",
    "    labelFontSize=12,\n",
    "    titleFontSize=12\n",
    "    )\n",
    "\n",
    "heatmap"
   ]
  },
  {
   "cell_type": "markdown",
   "metadata": {},
   "source": [
    "#### Choropleth"
   ]
  },
  {
   "cell_type": "code",
   "execution_count": 46,
   "metadata": {},
   "outputs": [
    {
     "data": {
      "text/html": [
       "<div>\n",
       "<style scoped>\n",
       "    .dataframe tbody tr th:only-of-type {\n",
       "        vertical-align: middle;\n",
       "    }\n",
       "\n",
       "    .dataframe tbody tr th {\n",
       "        vertical-align: top;\n",
       "    }\n",
       "\n",
       "    .dataframe thead th {\n",
       "        text-align: right;\n",
       "    }\n",
       "</style>\n",
       "<table border=\"1\" class=\"dataframe\">\n",
       "  <thead>\n",
       "    <tr style=\"text-align: right;\">\n",
       "      <th></th>\n",
       "      <th>year</th>\n",
       "      <th>State</th>\n",
       "      <th>Total_Cases</th>\n",
       "    </tr>\n",
       "  </thead>\n",
       "  <tbody>\n",
       "    <tr>\n",
       "      <th>55</th>\n",
       "      <td>2021</td>\n",
       "      <td>Alabama</td>\n",
       "      <td>624065.241096</td>\n",
       "    </tr>\n",
       "    <tr>\n",
       "      <th>56</th>\n",
       "      <td>2021</td>\n",
       "      <td>Alaska</td>\n",
       "      <td>87545.010959</td>\n",
       "    </tr>\n",
       "    <tr>\n",
       "      <th>57</th>\n",
       "      <td>2021</td>\n",
       "      <td>American Samoa</td>\n",
       "      <td>5.574257</td>\n",
       "    </tr>\n",
       "    <tr>\n",
       "      <th>58</th>\n",
       "      <td>2021</td>\n",
       "      <td>Arizona</td>\n",
       "      <td>960222.969863</td>\n",
       "    </tr>\n",
       "    <tr>\n",
       "      <th>59</th>\n",
       "      <td>2021</td>\n",
       "      <td>Arkansas</td>\n",
       "      <td>396678.117808</td>\n",
       "    </tr>\n",
       "  </tbody>\n",
       "</table>\n",
       "</div>"
      ],
      "text/plain": [
       "    year           State   Total_Cases\n",
       "55  2021         Alabama 624065.241096\n",
       "56  2021          Alaska  87545.010959\n",
       "57  2021  American Samoa      5.574257\n",
       "58  2021         Arizona 960222.969863\n",
       "59  2021        Arkansas 396678.117808"
      ]
     },
     "execution_count": 46,
     "metadata": {},
     "output_type": "execute_result"
    }
   ],
   "source": [
    "states_by_yr_avg_2021 = states_by_yr_avg[states_by_yr_avg['year'] == 2021]\n",
    "states_by_yr_avg_2021.head()"
   ]
  },
  {
   "cell_type": "code",
   "execution_count": 51,
   "metadata": {},
   "outputs": [
    {
     "data": {
      "text/plain": [
       "UrlData({\n",
       "  format: TopoDataFormat({\n",
       "    feature: 'states',\n",
       "    type: 'topojson'\n",
       "  }),\n",
       "  url: 'https://cdn.jsdelivr.net/npm/vega-datasets@v1.29.0/data/us-10m.json'\n",
       "})"
      ]
     },
     "execution_count": 51,
     "metadata": {},
     "output_type": "execute_result"
    }
   ],
   "source": [
    "states"
   ]
  },
  {
   "cell_type": "code",
   "execution_count": 53,
   "metadata": {},
   "outputs": [
    {
     "data": {
      "text/html": [
       "\n",
       "<style>\n",
       "  #altair-viz-cad54962a7b24783b819107b266c968c.vega-embed {\n",
       "    width: 100%;\n",
       "    display: flex;\n",
       "  }\n",
       "\n",
       "  #altair-viz-cad54962a7b24783b819107b266c968c.vega-embed details,\n",
       "  #altair-viz-cad54962a7b24783b819107b266c968c.vega-embed details summary {\n",
       "    position: relative;\n",
       "  }\n",
       "</style>\n",
       "<div id=\"altair-viz-cad54962a7b24783b819107b266c968c\"></div>\n",
       "<script type=\"text/javascript\">\n",
       "  var VEGA_DEBUG = (typeof VEGA_DEBUG == \"undefined\") ? {} : VEGA_DEBUG;\n",
       "  (function(spec, embedOpt){\n",
       "    let outputDiv = document.currentScript.previousElementSibling;\n",
       "    if (outputDiv.id !== \"altair-viz-cad54962a7b24783b819107b266c968c\") {\n",
       "      outputDiv = document.getElementById(\"altair-viz-cad54962a7b24783b819107b266c968c\");\n",
       "    }\n",
       "    const paths = {\n",
       "      \"vega\": \"https://cdn.jsdelivr.net/npm/vega@5?noext\",\n",
       "      \"vega-lib\": \"https://cdn.jsdelivr.net/npm/vega-lib?noext\",\n",
       "      \"vega-lite\": \"https://cdn.jsdelivr.net/npm/vega-lite@5.16.3?noext\",\n",
       "      \"vega-embed\": \"https://cdn.jsdelivr.net/npm/vega-embed@6?noext\",\n",
       "    };\n",
       "\n",
       "    function maybeLoadScript(lib, version) {\n",
       "      var key = `${lib.replace(\"-\", \"\")}_version`;\n",
       "      return (VEGA_DEBUG[key] == version) ?\n",
       "        Promise.resolve(paths[lib]) :\n",
       "        new Promise(function(resolve, reject) {\n",
       "          var s = document.createElement('script');\n",
       "          document.getElementsByTagName(\"head\")[0].appendChild(s);\n",
       "          s.async = true;\n",
       "          s.onload = () => {\n",
       "            VEGA_DEBUG[key] = version;\n",
       "            return resolve(paths[lib]);\n",
       "          };\n",
       "          s.onerror = () => reject(`Error loading script: ${paths[lib]}`);\n",
       "          s.src = paths[lib];\n",
       "        });\n",
       "    }\n",
       "\n",
       "    function showError(err) {\n",
       "      outputDiv.innerHTML = `<div class=\"error\" style=\"color:red;\">${err}</div>`;\n",
       "      throw err;\n",
       "    }\n",
       "\n",
       "    function displayChart(vegaEmbed) {\n",
       "      vegaEmbed(outputDiv, spec, embedOpt)\n",
       "        .catch(err => showError(`Javascript Error: ${err.message}<br>This usually means there's a typo in your chart specification. See the javascript console for the full traceback.`));\n",
       "    }\n",
       "\n",
       "    if(typeof define === \"function\" && define.amd) {\n",
       "      requirejs.config({paths});\n",
       "      require([\"vega-embed\"], displayChart, err => showError(`Error loading script: ${err.message}`));\n",
       "    } else {\n",
       "      maybeLoadScript(\"vega\", \"5\")\n",
       "        .then(() => maybeLoadScript(\"vega-lite\", \"5.16.3\"))\n",
       "        .then(() => maybeLoadScript(\"vega-embed\", \"6\"))\n",
       "        .catch(showError)\n",
       "        .then(() => displayChart(vegaEmbed));\n",
       "    }\n",
       "  })({\"usermeta\": {\"embedOptions\": {\"theme\": \"dark\"}}, \"config\": {\"view\": {\"continuousWidth\": 300, \"continuousHeight\": 300}}, \"data\": {\"url\": \"https://cdn.jsdelivr.net/npm/vega-datasets@v1.29.0/data/us-10m.json\", \"format\": {\"feature\": \"states\", \"type\": \"topojson\"}}, \"mark\": {\"type\": \"geoshape\"}, \"encoding\": {\"color\": {\"field\": \"Total_Cases\", \"scale\": {\"scheme\": \"blues\"}, \"type\": \"quantitative\"}, \"stroke\": {\"value\": \"#154360\"}}, \"height\": 300, \"projection\": {\"type\": \"albersUsa\"}, \"transform\": [{\"lookup\": \"State\", \"from\": {\"data\": {\"name\": \"data-5a358328b7e8c076d5afbd3fd8856669\"}, \"key\": \"id\", \"fields\": [\"year\", \"State\", \"Total_Cases\"]}}], \"width\": 500, \"$schema\": \"https://vega.github.io/schema/vega-lite/v5.16.3.json\", \"datasets\": {\"data-5a358328b7e8c076d5afbd3fd8856669\": [{\"year\": 2021, \"State\": \"Alabama\", \"Total_Cases\": 624065.2410958904}, {\"year\": 2021, \"State\": \"Alaska\", \"Total_Cases\": 87545.01095890411}, {\"year\": 2021, \"State\": \"American Samoa\", \"Total_Cases\": 5.574257425742574}, {\"year\": 2021, \"State\": \"Arizona\", \"Total_Cases\": 960222.9698630137}, {\"year\": 2021, \"State\": \"Arkansas\", \"Total_Cases\": 396678.11780821916}, {\"year\": 2021, \"State\": \"California\", \"Total_Cases\": 4099897.35890411}, {\"year\": 2021, \"State\": \"Colorado\", \"Total_Cases\": 584518.501369863}, {\"year\": 2021, \"State\": \"Connecticut\", \"Total_Cases\": 347682.00821917807}, {\"year\": 2021, \"State\": \"Delaware\", \"Total_Cases\": 113769.0794520548}, {\"year\": 2021, \"State\": \"District of Columbia\", \"Total_Cases\": 51963.468493150685}, {\"year\": 2021, \"State\": \"Florida\", \"Total_Cases\": 2668959.208219178}, {\"year\": 2021, \"State\": \"Georgia\", \"Total_Cases\": 1225732.1315068493}, {\"year\": 2021, \"State\": \"Guam\", \"Total_Cases\": 12043.465753424658}, {\"year\": 2021, \"State\": \"Hawaii\", \"Total_Cases\": 49513.52328767123}, {\"year\": 2021, \"State\": \"Idaho\", \"Total_Cases\": 217140.0684931507}, {\"year\": 2021, \"State\": \"Illinois\", \"Total_Cases\": 1446456.4246575343}, {\"year\": 2021, \"State\": \"Indiana\", \"Total_Cases\": 820958.4849315068}, {\"year\": 2021, \"State\": \"Iowa\", \"Total_Cases\": 400581.80273972603}, {\"year\": 2021, \"State\": \"Kansas\", \"Total_Cases\": 352633.21643835615}, {\"year\": 2021, \"State\": \"Kentucky\", \"Total_Cases\": 538814.9479452055}, {\"year\": 2021, \"State\": \"Louisiana\", \"Total_Cases\": 563831.9890410958}, {\"year\": 2021, \"State\": \"Maine\", \"Total_Cases\": 73573.08767123288}, {\"year\": 2021, \"State\": \"Maryland\", \"Total_Cases\": 470289.8904109589}, {\"year\": 2021, \"State\": \"Massachusetts\", \"Total_Cases\": 722283.5780821918}, {\"year\": 2021, \"State\": \"Michigan\", \"Total_Cases\": 1004425.5287671232}, {\"year\": 2021, \"State\": \"Minnesota\", \"Total_Cases\": 638996.8575342465}, {\"year\": 2021, \"State\": \"Mississippi\", \"Total_Cases\": 375050.1890410959}, {\"year\": 2021, \"State\": \"Missouri\", \"Total_Cases\": 693420.098630137}, {\"year\": 2021, \"State\": \"Montana\", \"Total_Cases\": 128321.7698630137}, {\"year\": 2021, \"State\": \"Nebraska\", \"Total_Cases\": 238669.73698630137}, {\"year\": 2021, \"State\": \"Nevada\", \"Total_Cases\": 359659.48493150686}, {\"year\": 2021, \"State\": \"New Hampshire\", \"Total_Cases\": 105746.03561643836}, {\"year\": 2021, \"State\": \"New Jersey\", \"Total_Cases\": 1015788.4082191781}, {\"year\": 2021, \"State\": \"New Mexico\", \"Total_Cases\": 224862.81643835615}, {\"year\": 2021, \"State\": \"New York\", \"Total_Cases\": 2125380.9178082193}, {\"year\": 2021, \"State\": \"North Carolina\", \"Total_Cases\": 1111456.002739726}, {\"year\": 2021, \"State\": \"North Dakota\", \"Total_Cases\": 119719.69863013699}, {\"year\": 2021, \"State\": \"Northern Mariana Islands\", \"Total_Cases\": 370.56986301369864}, {\"year\": 2021, \"State\": \"Ohio\", \"Total_Cases\": 1212316.0465753425}, {\"year\": 2021, \"State\": \"Oklahoma\", \"Total_Cases\": 507154.701369863}, {\"year\": 2021, \"State\": \"Oregon\", \"Total_Cases\": 243150.5780821918}, {\"year\": 2021, \"State\": \"Pennsylvania\", \"Total_Cases\": 1252447.3232876712}, {\"year\": 2021, \"State\": \"Puerto Rico\", \"Total_Cases\": 178296.21643835618}, {\"year\": 2021, \"State\": \"Rhode Island\", \"Total_Cases\": 154438.5397260274}, {\"year\": 2021, \"State\": \"South Carolina\", \"Total_Cases\": 663684.0328767124}, {\"year\": 2021, \"State\": \"South Dakota\", \"Total_Cases\": 131215.87397260274}, {\"year\": 2021, \"State\": \"Tennessee\", \"Total_Cases\": 954905.1424657535}, {\"year\": 2021, \"State\": \"Texas\", \"Total_Cases\": 3274080.21369863}, {\"year\": 2021, \"State\": \"Utah\", \"Total_Cases\": 445605.5232876712}, {\"year\": 2021, \"State\": \"Vermont\", \"Total_Cases\": 27703.986301369863}, {\"year\": 2021, \"State\": \"Virgin Islands\", \"Total_Cases\": 4630.482191780822}, {\"year\": 2021, \"State\": \"Virginia\", \"Total_Cases\": 722761.8876712329}, {\"year\": 2021, \"State\": \"Washington\", \"Total_Cases\": 508042.7068493151}, {\"year\": 2021, \"State\": \"West Virginia\", \"Total_Cases\": 187804.24383561645}, {\"year\": 2021, \"State\": \"Wisconsin\", \"Total_Cases\": 732360.495890411}, {\"year\": 2021, \"State\": \"Wyoming\", \"Total_Cases\": 72570.15890410959}]}}, {\"mode\": \"vega-lite\"});\n",
       "</script>"
      ],
      "text/plain": [
       "alt.Chart(...)"
      ]
     },
     "execution_count": 53,
     "metadata": {},
     "output_type": "execute_result"
    }
   ],
   "source": [
    "alt.themes.enable(\"dark\")\n",
    "\n",
    "states = alt.topo_feature(data.us_10m.url, 'states')\n",
    "\n",
    "alt.Chart(states).mark_geoshape().encode(\n",
    "    color=alt.Color('Total_Cases:Q', scale=alt.Scale(scheme='blues')),   # scale=color_scale\n",
    "    stroke=alt.value('#154360')\n",
    ").transform_lookup(\n",
    "    lookup='State',\n",
    "    from_=alt.LookupData(states_by_yr_avg_2021, 'id', list(states_by_yr_avg_2021.columns))\n",
    ").properties(\n",
    "    width=500,\n",
    "    height=300\n",
    ").project(\n",
    "    type='albersUsa'\n",
    ")"
   ]
  },
  {
   "cell_type": "code",
   "execution_count": 57,
   "metadata": {},
   "outputs": [
    {
     "ename": "ValueError",
     "evalue": "Mime type rendering requires nbformat>=4.2.0 but it is not installed",
     "output_type": "error",
     "traceback": [
      "\u001b[0;31m---------------------------------------------------------------------------\u001b[0m",
      "\u001b[0;31mValueError\u001b[0m                                Traceback (most recent call last)",
      "File \u001b[0;32m~/Downloads/Projects/Covid19_RShinyDashboard/venv/lib/python3.10/site-packages/IPython/core/formatters.py:922\u001b[0m, in \u001b[0;36mIPythonDisplayFormatter.__call__\u001b[0;34m(self, obj)\u001b[0m\n\u001b[1;32m    920\u001b[0m method \u001b[38;5;241m=\u001b[39m get_real_method(obj, \u001b[38;5;28mself\u001b[39m\u001b[38;5;241m.\u001b[39mprint_method)\n\u001b[1;32m    921\u001b[0m \u001b[38;5;28;01mif\u001b[39;00m method \u001b[38;5;129;01mis\u001b[39;00m \u001b[38;5;129;01mnot\u001b[39;00m \u001b[38;5;28;01mNone\u001b[39;00m:\n\u001b[0;32m--> 922\u001b[0m     \u001b[43mmethod\u001b[49m\u001b[43m(\u001b[49m\u001b[43m)\u001b[49m\n\u001b[1;32m    923\u001b[0m     \u001b[38;5;28;01mreturn\u001b[39;00m \u001b[38;5;28;01mTrue\u001b[39;00m\n",
      "File \u001b[0;32m~/Downloads/Projects/Covid19_RShinyDashboard/venv/lib/python3.10/site-packages/plotly/basedatatypes.py:832\u001b[0m, in \u001b[0;36mBaseFigure._ipython_display_\u001b[0;34m(self)\u001b[0m\n\u001b[1;32m    829\u001b[0m \u001b[38;5;28;01mimport\u001b[39;00m \u001b[38;5;21;01mplotly\u001b[39;00m\u001b[38;5;21;01m.\u001b[39;00m\u001b[38;5;21;01mio\u001b[39;00m \u001b[38;5;28;01mas\u001b[39;00m \u001b[38;5;21;01mpio\u001b[39;00m\n\u001b[1;32m    831\u001b[0m \u001b[38;5;28;01mif\u001b[39;00m pio\u001b[38;5;241m.\u001b[39mrenderers\u001b[38;5;241m.\u001b[39mrender_on_display \u001b[38;5;129;01mand\u001b[39;00m pio\u001b[38;5;241m.\u001b[39mrenderers\u001b[38;5;241m.\u001b[39mdefault:\n\u001b[0;32m--> 832\u001b[0m     \u001b[43mpio\u001b[49m\u001b[38;5;241;43m.\u001b[39;49m\u001b[43mshow\u001b[49m\u001b[43m(\u001b[49m\u001b[38;5;28;43mself\u001b[39;49m\u001b[43m)\u001b[49m\n\u001b[1;32m    833\u001b[0m \u001b[38;5;28;01melse\u001b[39;00m:\n\u001b[1;32m    834\u001b[0m     \u001b[38;5;28mprint\u001b[39m(\u001b[38;5;28mrepr\u001b[39m(\u001b[38;5;28mself\u001b[39m))\n",
      "File \u001b[0;32m~/Downloads/Projects/Covid19_RShinyDashboard/venv/lib/python3.10/site-packages/plotly/io/_renderers.py:394\u001b[0m, in \u001b[0;36mshow\u001b[0;34m(fig, renderer, validate, **kwargs)\u001b[0m\n\u001b[1;32m    389\u001b[0m         \u001b[38;5;28;01mraise\u001b[39;00m \u001b[38;5;167;01mValueError\u001b[39;00m(\n\u001b[1;32m    390\u001b[0m             \u001b[38;5;124m\"\u001b[39m\u001b[38;5;124mMime type rendering requires ipython but it is not installed\u001b[39m\u001b[38;5;124m\"\u001b[39m\n\u001b[1;32m    391\u001b[0m         )\n\u001b[1;32m    393\u001b[0m     \u001b[38;5;28;01mif\u001b[39;00m \u001b[38;5;129;01mnot\u001b[39;00m nbformat \u001b[38;5;129;01mor\u001b[39;00m Version(nbformat\u001b[38;5;241m.\u001b[39m__version__) \u001b[38;5;241m<\u001b[39m Version(\u001b[38;5;124m\"\u001b[39m\u001b[38;5;124m4.2.0\u001b[39m\u001b[38;5;124m\"\u001b[39m):\n\u001b[0;32m--> 394\u001b[0m         \u001b[38;5;28;01mraise\u001b[39;00m \u001b[38;5;167;01mValueError\u001b[39;00m(\n\u001b[1;32m    395\u001b[0m             \u001b[38;5;124m\"\u001b[39m\u001b[38;5;124mMime type rendering requires nbformat>=4.2.0 but it is not installed\u001b[39m\u001b[38;5;124m\"\u001b[39m\n\u001b[1;32m    396\u001b[0m         )\n\u001b[1;32m    398\u001b[0m     ipython_display\u001b[38;5;241m.\u001b[39mdisplay(bundle, raw\u001b[38;5;241m=\u001b[39m\u001b[38;5;28;01mTrue\u001b[39;00m)\n\u001b[1;32m    400\u001b[0m \u001b[38;5;66;03m# external renderers\u001b[39;00m\n",
      "\u001b[0;31mValueError\u001b[0m: Mime type rendering requires nbformat>=4.2.0 but it is not installed"
     ]
    },
    {
     "data": {
      "application/vnd.plotly.v1+json": {
       "config": {
        "plotlyServerURL": "https://plot.ly"
       },
       "data": [
        {
         "coloraxis": "coloraxis",
         "geo": "geo",
         "hovertemplate": "State=%{location}<br>Total Cases=%{z}<extra></extra>",
         "locationmode": "USA-states",
         "locations": [
          "Alabama",
          "Alaska",
          "American Samoa",
          "Arizona",
          "Arkansas",
          "California",
          "Colorado",
          "Connecticut",
          "Delaware",
          "District of Columbia",
          "Florida",
          "Georgia",
          "Guam",
          "Hawaii",
          "Idaho",
          "Illinois",
          "Indiana",
          "Iowa",
          "Kansas",
          "Kentucky",
          "Louisiana",
          "Maine",
          "Maryland",
          "Massachusetts",
          "Michigan",
          "Minnesota",
          "Mississippi",
          "Missouri",
          "Montana",
          "Nebraska",
          "Nevada",
          "New Hampshire",
          "New Jersey",
          "New Mexico",
          "New York",
          "North Carolina",
          "North Dakota",
          "Northern Mariana Islands",
          "Ohio",
          "Oklahoma",
          "Oregon",
          "Pennsylvania",
          "Puerto Rico",
          "Rhode Island",
          "South Carolina",
          "South Dakota",
          "Tennessee",
          "Texas",
          "Utah",
          "Vermont",
          "Virgin Islands",
          "Virginia",
          "Washington",
          "West Virginia",
          "Wisconsin",
          "Wyoming"
         ],
         "name": "",
         "type": "choropleth",
         "z": [
          624065.2410958904,
          87545.01095890411,
          5.574257425742574,
          960222.9698630137,
          396678.11780821916,
          4099897.35890411,
          584518.501369863,
          347682.00821917807,
          113769.0794520548,
          51963.468493150685,
          2668959.208219178,
          1225732.1315068493,
          12043.465753424658,
          49513.52328767123,
          217140.0684931507,
          1446456.4246575343,
          820958.4849315068,
          400581.80273972603,
          352633.21643835615,
          538814.9479452055,
          563831.9890410958,
          73573.08767123288,
          470289.8904109589,
          722283.5780821918,
          1004425.5287671232,
          638996.8575342465,
          375050.1890410959,
          693420.098630137,
          128321.7698630137,
          238669.73698630137,
          359659.48493150686,
          105746.03561643836,
          1015788.4082191781,
          224862.81643835615,
          2125380.9178082193,
          1111456.002739726,
          119719.69863013699,
          370.56986301369864,
          1212316.0465753425,
          507154.701369863,
          243150.5780821918,
          1252447.3232876712,
          178296.21643835618,
          154438.5397260274,
          663684.0328767124,
          131215.87397260274,
          954905.1424657535,
          3274080.21369863,
          445605.5232876712,
          27703.986301369863,
          4630.482191780822,
          722761.8876712329,
          508042.7068493151,
          187804.24383561645,
          732360.495890411,
          72570.15890410959
         ]
        }
       ],
       "layout": {
        "coloraxis": {
         "cmax": 4099897.35890411,
         "cmin": 0,
         "colorbar": {
          "title": {
           "text": "Total Cases"
          }
         },
         "colorscale": [
          [
           0,
           "rgb(247,251,255)"
          ],
          [
           0.125,
           "rgb(222,235,247)"
          ],
          [
           0.25,
           "rgb(198,219,239)"
          ],
          [
           0.375,
           "rgb(158,202,225)"
          ],
          [
           0.5,
           "rgb(107,174,214)"
          ],
          [
           0.625,
           "rgb(66,146,198)"
          ],
          [
           0.75,
           "rgb(33,113,181)"
          ],
          [
           0.875,
           "rgb(8,81,156)"
          ],
          [
           1,
           "rgb(8,48,107)"
          ]
         ]
        },
        "geo": {
         "center": {},
         "domain": {
          "x": [
           0,
           1
          ],
          "y": [
           0,
           1
          ]
         },
         "scope": "usa"
        },
        "height": 350,
        "legend": {
         "tracegroupgap": 0
        },
        "margin": {
         "b": 0,
         "l": 0,
         "r": 0,
         "t": 0
        },
        "paper_bgcolor": "rgba(0, 0, 0, 0)",
        "plot_bgcolor": "rgba(0, 0, 0, 0)",
        "template": {
         "data": {
          "bar": [
           {
            "error_x": {
             "color": "#f2f5fa"
            },
            "error_y": {
             "color": "#f2f5fa"
            },
            "marker": {
             "line": {
              "color": "rgb(17,17,17)",
              "width": 0.5
             },
             "pattern": {
              "fillmode": "overlay",
              "size": 10,
              "solidity": 0.2
             }
            },
            "type": "bar"
           }
          ],
          "barpolar": [
           {
            "marker": {
             "line": {
              "color": "rgb(17,17,17)",
              "width": 0.5
             },
             "pattern": {
              "fillmode": "overlay",
              "size": 10,
              "solidity": 0.2
             }
            },
            "type": "barpolar"
           }
          ],
          "carpet": [
           {
            "aaxis": {
             "endlinecolor": "#A2B1C6",
             "gridcolor": "#506784",
             "linecolor": "#506784",
             "minorgridcolor": "#506784",
             "startlinecolor": "#A2B1C6"
            },
            "baxis": {
             "endlinecolor": "#A2B1C6",
             "gridcolor": "#506784",
             "linecolor": "#506784",
             "minorgridcolor": "#506784",
             "startlinecolor": "#A2B1C6"
            },
            "type": "carpet"
           }
          ],
          "choropleth": [
           {
            "colorbar": {
             "outlinewidth": 0,
             "ticks": ""
            },
            "type": "choropleth"
           }
          ],
          "contour": [
           {
            "colorbar": {
             "outlinewidth": 0,
             "ticks": ""
            },
            "colorscale": [
             [
              0,
              "#0d0887"
             ],
             [
              0.1111111111111111,
              "#46039f"
             ],
             [
              0.2222222222222222,
              "#7201a8"
             ],
             [
              0.3333333333333333,
              "#9c179e"
             ],
             [
              0.4444444444444444,
              "#bd3786"
             ],
             [
              0.5555555555555556,
              "#d8576b"
             ],
             [
              0.6666666666666666,
              "#ed7953"
             ],
             [
              0.7777777777777778,
              "#fb9f3a"
             ],
             [
              0.8888888888888888,
              "#fdca26"
             ],
             [
              1,
              "#f0f921"
             ]
            ],
            "type": "contour"
           }
          ],
          "contourcarpet": [
           {
            "colorbar": {
             "outlinewidth": 0,
             "ticks": ""
            },
            "type": "contourcarpet"
           }
          ],
          "heatmap": [
           {
            "colorbar": {
             "outlinewidth": 0,
             "ticks": ""
            },
            "colorscale": [
             [
              0,
              "#0d0887"
             ],
             [
              0.1111111111111111,
              "#46039f"
             ],
             [
              0.2222222222222222,
              "#7201a8"
             ],
             [
              0.3333333333333333,
              "#9c179e"
             ],
             [
              0.4444444444444444,
              "#bd3786"
             ],
             [
              0.5555555555555556,
              "#d8576b"
             ],
             [
              0.6666666666666666,
              "#ed7953"
             ],
             [
              0.7777777777777778,
              "#fb9f3a"
             ],
             [
              0.8888888888888888,
              "#fdca26"
             ],
             [
              1,
              "#f0f921"
             ]
            ],
            "type": "heatmap"
           }
          ],
          "heatmapgl": [
           {
            "colorbar": {
             "outlinewidth": 0,
             "ticks": ""
            },
            "colorscale": [
             [
              0,
              "#0d0887"
             ],
             [
              0.1111111111111111,
              "#46039f"
             ],
             [
              0.2222222222222222,
              "#7201a8"
             ],
             [
              0.3333333333333333,
              "#9c179e"
             ],
             [
              0.4444444444444444,
              "#bd3786"
             ],
             [
              0.5555555555555556,
              "#d8576b"
             ],
             [
              0.6666666666666666,
              "#ed7953"
             ],
             [
              0.7777777777777778,
              "#fb9f3a"
             ],
             [
              0.8888888888888888,
              "#fdca26"
             ],
             [
              1,
              "#f0f921"
             ]
            ],
            "type": "heatmapgl"
           }
          ],
          "histogram": [
           {
            "marker": {
             "pattern": {
              "fillmode": "overlay",
              "size": 10,
              "solidity": 0.2
             }
            },
            "type": "histogram"
           }
          ],
          "histogram2d": [
           {
            "colorbar": {
             "outlinewidth": 0,
             "ticks": ""
            },
            "colorscale": [
             [
              0,
              "#0d0887"
             ],
             [
              0.1111111111111111,
              "#46039f"
             ],
             [
              0.2222222222222222,
              "#7201a8"
             ],
             [
              0.3333333333333333,
              "#9c179e"
             ],
             [
              0.4444444444444444,
              "#bd3786"
             ],
             [
              0.5555555555555556,
              "#d8576b"
             ],
             [
              0.6666666666666666,
              "#ed7953"
             ],
             [
              0.7777777777777778,
              "#fb9f3a"
             ],
             [
              0.8888888888888888,
              "#fdca26"
             ],
             [
              1,
              "#f0f921"
             ]
            ],
            "type": "histogram2d"
           }
          ],
          "histogram2dcontour": [
           {
            "colorbar": {
             "outlinewidth": 0,
             "ticks": ""
            },
            "colorscale": [
             [
              0,
              "#0d0887"
             ],
             [
              0.1111111111111111,
              "#46039f"
             ],
             [
              0.2222222222222222,
              "#7201a8"
             ],
             [
              0.3333333333333333,
              "#9c179e"
             ],
             [
              0.4444444444444444,
              "#bd3786"
             ],
             [
              0.5555555555555556,
              "#d8576b"
             ],
             [
              0.6666666666666666,
              "#ed7953"
             ],
             [
              0.7777777777777778,
              "#fb9f3a"
             ],
             [
              0.8888888888888888,
              "#fdca26"
             ],
             [
              1,
              "#f0f921"
             ]
            ],
            "type": "histogram2dcontour"
           }
          ],
          "mesh3d": [
           {
            "colorbar": {
             "outlinewidth": 0,
             "ticks": ""
            },
            "type": "mesh3d"
           }
          ],
          "parcoords": [
           {
            "line": {
             "colorbar": {
              "outlinewidth": 0,
              "ticks": ""
             }
            },
            "type": "parcoords"
           }
          ],
          "pie": [
           {
            "automargin": true,
            "type": "pie"
           }
          ],
          "scatter": [
           {
            "marker": {
             "line": {
              "color": "#283442"
             }
            },
            "type": "scatter"
           }
          ],
          "scatter3d": [
           {
            "line": {
             "colorbar": {
              "outlinewidth": 0,
              "ticks": ""
             }
            },
            "marker": {
             "colorbar": {
              "outlinewidth": 0,
              "ticks": ""
             }
            },
            "type": "scatter3d"
           }
          ],
          "scattercarpet": [
           {
            "marker": {
             "colorbar": {
              "outlinewidth": 0,
              "ticks": ""
             }
            },
            "type": "scattercarpet"
           }
          ],
          "scattergeo": [
           {
            "marker": {
             "colorbar": {
              "outlinewidth": 0,
              "ticks": ""
             }
            },
            "type": "scattergeo"
           }
          ],
          "scattergl": [
           {
            "marker": {
             "line": {
              "color": "#283442"
             }
            },
            "type": "scattergl"
           }
          ],
          "scattermapbox": [
           {
            "marker": {
             "colorbar": {
              "outlinewidth": 0,
              "ticks": ""
             }
            },
            "type": "scattermapbox"
           }
          ],
          "scatterpolar": [
           {
            "marker": {
             "colorbar": {
              "outlinewidth": 0,
              "ticks": ""
             }
            },
            "type": "scatterpolar"
           }
          ],
          "scatterpolargl": [
           {
            "marker": {
             "colorbar": {
              "outlinewidth": 0,
              "ticks": ""
             }
            },
            "type": "scatterpolargl"
           }
          ],
          "scatterternary": [
           {
            "marker": {
             "colorbar": {
              "outlinewidth": 0,
              "ticks": ""
             }
            },
            "type": "scatterternary"
           }
          ],
          "surface": [
           {
            "colorbar": {
             "outlinewidth": 0,
             "ticks": ""
            },
            "colorscale": [
             [
              0,
              "#0d0887"
             ],
             [
              0.1111111111111111,
              "#46039f"
             ],
             [
              0.2222222222222222,
              "#7201a8"
             ],
             [
              0.3333333333333333,
              "#9c179e"
             ],
             [
              0.4444444444444444,
              "#bd3786"
             ],
             [
              0.5555555555555556,
              "#d8576b"
             ],
             [
              0.6666666666666666,
              "#ed7953"
             ],
             [
              0.7777777777777778,
              "#fb9f3a"
             ],
             [
              0.8888888888888888,
              "#fdca26"
             ],
             [
              1,
              "#f0f921"
             ]
            ],
            "type": "surface"
           }
          ],
          "table": [
           {
            "cells": {
             "fill": {
              "color": "#506784"
             },
             "line": {
              "color": "rgb(17,17,17)"
             }
            },
            "header": {
             "fill": {
              "color": "#2a3f5f"
             },
             "line": {
              "color": "rgb(17,17,17)"
             }
            },
            "type": "table"
           }
          ]
         },
         "layout": {
          "annotationdefaults": {
           "arrowcolor": "#f2f5fa",
           "arrowhead": 0,
           "arrowwidth": 1
          },
          "autotypenumbers": "strict",
          "coloraxis": {
           "colorbar": {
            "outlinewidth": 0,
            "ticks": ""
           }
          },
          "colorscale": {
           "diverging": [
            [
             0,
             "#8e0152"
            ],
            [
             0.1,
             "#c51b7d"
            ],
            [
             0.2,
             "#de77ae"
            ],
            [
             0.3,
             "#f1b6da"
            ],
            [
             0.4,
             "#fde0ef"
            ],
            [
             0.5,
             "#f7f7f7"
            ],
            [
             0.6,
             "#e6f5d0"
            ],
            [
             0.7,
             "#b8e186"
            ],
            [
             0.8,
             "#7fbc41"
            ],
            [
             0.9,
             "#4d9221"
            ],
            [
             1,
             "#276419"
            ]
           ],
           "sequential": [
            [
             0,
             "#0d0887"
            ],
            [
             0.1111111111111111,
             "#46039f"
            ],
            [
             0.2222222222222222,
             "#7201a8"
            ],
            [
             0.3333333333333333,
             "#9c179e"
            ],
            [
             0.4444444444444444,
             "#bd3786"
            ],
            [
             0.5555555555555556,
             "#d8576b"
            ],
            [
             0.6666666666666666,
             "#ed7953"
            ],
            [
             0.7777777777777778,
             "#fb9f3a"
            ],
            [
             0.8888888888888888,
             "#fdca26"
            ],
            [
             1,
             "#f0f921"
            ]
           ],
           "sequentialminus": [
            [
             0,
             "#0d0887"
            ],
            [
             0.1111111111111111,
             "#46039f"
            ],
            [
             0.2222222222222222,
             "#7201a8"
            ],
            [
             0.3333333333333333,
             "#9c179e"
            ],
            [
             0.4444444444444444,
             "#bd3786"
            ],
            [
             0.5555555555555556,
             "#d8576b"
            ],
            [
             0.6666666666666666,
             "#ed7953"
            ],
            [
             0.7777777777777778,
             "#fb9f3a"
            ],
            [
             0.8888888888888888,
             "#fdca26"
            ],
            [
             1,
             "#f0f921"
            ]
           ]
          },
          "colorway": [
           "#636efa",
           "#EF553B",
           "#00cc96",
           "#ab63fa",
           "#FFA15A",
           "#19d3f3",
           "#FF6692",
           "#B6E880",
           "#FF97FF",
           "#FECB52"
          ],
          "font": {
           "color": "#f2f5fa"
          },
          "geo": {
           "bgcolor": "rgb(17,17,17)",
           "lakecolor": "rgb(17,17,17)",
           "landcolor": "rgb(17,17,17)",
           "showlakes": true,
           "showland": true,
           "subunitcolor": "#506784"
          },
          "hoverlabel": {
           "align": "left"
          },
          "hovermode": "closest",
          "mapbox": {
           "style": "dark"
          },
          "paper_bgcolor": "rgb(17,17,17)",
          "plot_bgcolor": "rgb(17,17,17)",
          "polar": {
           "angularaxis": {
            "gridcolor": "#506784",
            "linecolor": "#506784",
            "ticks": ""
           },
           "bgcolor": "rgb(17,17,17)",
           "radialaxis": {
            "gridcolor": "#506784",
            "linecolor": "#506784",
            "ticks": ""
           }
          },
          "scene": {
           "xaxis": {
            "backgroundcolor": "rgb(17,17,17)",
            "gridcolor": "#506784",
            "gridwidth": 2,
            "linecolor": "#506784",
            "showbackground": true,
            "ticks": "",
            "zerolinecolor": "#C8D4E3"
           },
           "yaxis": {
            "backgroundcolor": "rgb(17,17,17)",
            "gridcolor": "#506784",
            "gridwidth": 2,
            "linecolor": "#506784",
            "showbackground": true,
            "ticks": "",
            "zerolinecolor": "#C8D4E3"
           },
           "zaxis": {
            "backgroundcolor": "rgb(17,17,17)",
            "gridcolor": "#506784",
            "gridwidth": 2,
            "linecolor": "#506784",
            "showbackground": true,
            "ticks": "",
            "zerolinecolor": "#C8D4E3"
           }
          },
          "shapedefaults": {
           "line": {
            "color": "#f2f5fa"
           }
          },
          "sliderdefaults": {
           "bgcolor": "#C8D4E3",
           "bordercolor": "rgb(17,17,17)",
           "borderwidth": 1,
           "tickwidth": 0
          },
          "ternary": {
           "aaxis": {
            "gridcolor": "#506784",
            "linecolor": "#506784",
            "ticks": ""
           },
           "baxis": {
            "gridcolor": "#506784",
            "linecolor": "#506784",
            "ticks": ""
           },
           "bgcolor": "rgb(17,17,17)",
           "caxis": {
            "gridcolor": "#506784",
            "linecolor": "#506784",
            "ticks": ""
           }
          },
          "title": {
           "x": 0.05
          },
          "updatemenudefaults": {
           "bgcolor": "#506784",
           "borderwidth": 0
          },
          "xaxis": {
           "automargin": true,
           "gridcolor": "#283442",
           "linecolor": "#506784",
           "ticks": "",
           "title": {
            "standoff": 15
           },
           "zerolinecolor": "#283442",
           "zerolinewidth": 2
          },
          "yaxis": {
           "automargin": true,
           "gridcolor": "#283442",
           "linecolor": "#506784",
           "ticks": "",
           "title": {
            "standoff": 15
           },
           "zerolinecolor": "#283442",
           "zerolinewidth": 2
          }
         }
        }
       }
      },
      "text/html": [
       "<div>                        <script type=\"text/javascript\">window.PlotlyConfig = {MathJaxConfig: 'local'};</script>\n",
       "        <script charset=\"utf-8\" src=\"https://cdn.plot.ly/plotly-2.29.1.min.js\"></script>                <div id=\"1ec4e801-77d2-409a-a8c6-cb2eeb8798be\" class=\"plotly-graph-div\" style=\"height:350px; width:100%;\"></div>            <script type=\"text/javascript\">                                    window.PLOTLYENV=window.PLOTLYENV || {};                                    if (document.getElementById(\"1ec4e801-77d2-409a-a8c6-cb2eeb8798be\")) {                    Plotly.newPlot(                        \"1ec4e801-77d2-409a-a8c6-cb2eeb8798be\",                        [{\"coloraxis\":\"coloraxis\",\"geo\":\"geo\",\"hovertemplate\":\"State=%{location}\\u003cbr\\u003eTotal Cases=%{z}\\u003cextra\\u003e\\u003c\\u002fextra\\u003e\",\"locationmode\":\"USA-states\",\"locations\":[\"Alabama\",\"Alaska\",\"American Samoa\",\"Arizona\",\"Arkansas\",\"California\",\"Colorado\",\"Connecticut\",\"Delaware\",\"District of Columbia\",\"Florida\",\"Georgia\",\"Guam\",\"Hawaii\",\"Idaho\",\"Illinois\",\"Indiana\",\"Iowa\",\"Kansas\",\"Kentucky\",\"Louisiana\",\"Maine\",\"Maryland\",\"Massachusetts\",\"Michigan\",\"Minnesota\",\"Mississippi\",\"Missouri\",\"Montana\",\"Nebraska\",\"Nevada\",\"New Hampshire\",\"New Jersey\",\"New Mexico\",\"New York\",\"North Carolina\",\"North Dakota\",\"Northern Mariana Islands\",\"Ohio\",\"Oklahoma\",\"Oregon\",\"Pennsylvania\",\"Puerto Rico\",\"Rhode Island\",\"South Carolina\",\"South Dakota\",\"Tennessee\",\"Texas\",\"Utah\",\"Vermont\",\"Virgin Islands\",\"Virginia\",\"Washington\",\"West Virginia\",\"Wisconsin\",\"Wyoming\"],\"name\":\"\",\"z\":[624065.2410958904,87545.01095890411,5.574257425742574,960222.9698630137,396678.11780821916,4099897.35890411,584518.501369863,347682.00821917807,113769.0794520548,51963.468493150685,2668959.208219178,1225732.1315068493,12043.465753424658,49513.52328767123,217140.0684931507,1446456.4246575343,820958.4849315068,400581.80273972603,352633.21643835615,538814.9479452055,563831.9890410958,73573.08767123288,470289.8904109589,722283.5780821918,1004425.5287671232,638996.8575342465,375050.1890410959,693420.098630137,128321.7698630137,238669.73698630137,359659.48493150686,105746.03561643836,1015788.4082191781,224862.81643835615,2125380.9178082193,1111456.002739726,119719.69863013699,370.56986301369864,1212316.0465753425,507154.701369863,243150.5780821918,1252447.3232876712,178296.21643835618,154438.5397260274,663684.0328767124,131215.87397260274,954905.1424657535,3274080.21369863,445605.5232876712,27703.986301369863,4630.482191780822,722761.8876712329,508042.7068493151,187804.24383561645,732360.495890411,72570.15890410959],\"type\":\"choropleth\"}],                        {\"template\":{\"data\":{\"barpolar\":[{\"marker\":{\"line\":{\"color\":\"rgb(17,17,17)\",\"width\":0.5},\"pattern\":{\"fillmode\":\"overlay\",\"size\":10,\"solidity\":0.2}},\"type\":\"barpolar\"}],\"bar\":[{\"error_x\":{\"color\":\"#f2f5fa\"},\"error_y\":{\"color\":\"#f2f5fa\"},\"marker\":{\"line\":{\"color\":\"rgb(17,17,17)\",\"width\":0.5},\"pattern\":{\"fillmode\":\"overlay\",\"size\":10,\"solidity\":0.2}},\"type\":\"bar\"}],\"carpet\":[{\"aaxis\":{\"endlinecolor\":\"#A2B1C6\",\"gridcolor\":\"#506784\",\"linecolor\":\"#506784\",\"minorgridcolor\":\"#506784\",\"startlinecolor\":\"#A2B1C6\"},\"baxis\":{\"endlinecolor\":\"#A2B1C6\",\"gridcolor\":\"#506784\",\"linecolor\":\"#506784\",\"minorgridcolor\":\"#506784\",\"startlinecolor\":\"#A2B1C6\"},\"type\":\"carpet\"}],\"choropleth\":[{\"colorbar\":{\"outlinewidth\":0,\"ticks\":\"\"},\"type\":\"choropleth\"}],\"contourcarpet\":[{\"colorbar\":{\"outlinewidth\":0,\"ticks\":\"\"},\"type\":\"contourcarpet\"}],\"contour\":[{\"colorbar\":{\"outlinewidth\":0,\"ticks\":\"\"},\"colorscale\":[[0.0,\"#0d0887\"],[0.1111111111111111,\"#46039f\"],[0.2222222222222222,\"#7201a8\"],[0.3333333333333333,\"#9c179e\"],[0.4444444444444444,\"#bd3786\"],[0.5555555555555556,\"#d8576b\"],[0.6666666666666666,\"#ed7953\"],[0.7777777777777778,\"#fb9f3a\"],[0.8888888888888888,\"#fdca26\"],[1.0,\"#f0f921\"]],\"type\":\"contour\"}],\"heatmapgl\":[{\"colorbar\":{\"outlinewidth\":0,\"ticks\":\"\"},\"colorscale\":[[0.0,\"#0d0887\"],[0.1111111111111111,\"#46039f\"],[0.2222222222222222,\"#7201a8\"],[0.3333333333333333,\"#9c179e\"],[0.4444444444444444,\"#bd3786\"],[0.5555555555555556,\"#d8576b\"],[0.6666666666666666,\"#ed7953\"],[0.7777777777777778,\"#fb9f3a\"],[0.8888888888888888,\"#fdca26\"],[1.0,\"#f0f921\"]],\"type\":\"heatmapgl\"}],\"heatmap\":[{\"colorbar\":{\"outlinewidth\":0,\"ticks\":\"\"},\"colorscale\":[[0.0,\"#0d0887\"],[0.1111111111111111,\"#46039f\"],[0.2222222222222222,\"#7201a8\"],[0.3333333333333333,\"#9c179e\"],[0.4444444444444444,\"#bd3786\"],[0.5555555555555556,\"#d8576b\"],[0.6666666666666666,\"#ed7953\"],[0.7777777777777778,\"#fb9f3a\"],[0.8888888888888888,\"#fdca26\"],[1.0,\"#f0f921\"]],\"type\":\"heatmap\"}],\"histogram2dcontour\":[{\"colorbar\":{\"outlinewidth\":0,\"ticks\":\"\"},\"colorscale\":[[0.0,\"#0d0887\"],[0.1111111111111111,\"#46039f\"],[0.2222222222222222,\"#7201a8\"],[0.3333333333333333,\"#9c179e\"],[0.4444444444444444,\"#bd3786\"],[0.5555555555555556,\"#d8576b\"],[0.6666666666666666,\"#ed7953\"],[0.7777777777777778,\"#fb9f3a\"],[0.8888888888888888,\"#fdca26\"],[1.0,\"#f0f921\"]],\"type\":\"histogram2dcontour\"}],\"histogram2d\":[{\"colorbar\":{\"outlinewidth\":0,\"ticks\":\"\"},\"colorscale\":[[0.0,\"#0d0887\"],[0.1111111111111111,\"#46039f\"],[0.2222222222222222,\"#7201a8\"],[0.3333333333333333,\"#9c179e\"],[0.4444444444444444,\"#bd3786\"],[0.5555555555555556,\"#d8576b\"],[0.6666666666666666,\"#ed7953\"],[0.7777777777777778,\"#fb9f3a\"],[0.8888888888888888,\"#fdca26\"],[1.0,\"#f0f921\"]],\"type\":\"histogram2d\"}],\"histogram\":[{\"marker\":{\"pattern\":{\"fillmode\":\"overlay\",\"size\":10,\"solidity\":0.2}},\"type\":\"histogram\"}],\"mesh3d\":[{\"colorbar\":{\"outlinewidth\":0,\"ticks\":\"\"},\"type\":\"mesh3d\"}],\"parcoords\":[{\"line\":{\"colorbar\":{\"outlinewidth\":0,\"ticks\":\"\"}},\"type\":\"parcoords\"}],\"pie\":[{\"automargin\":true,\"type\":\"pie\"}],\"scatter3d\":[{\"line\":{\"colorbar\":{\"outlinewidth\":0,\"ticks\":\"\"}},\"marker\":{\"colorbar\":{\"outlinewidth\":0,\"ticks\":\"\"}},\"type\":\"scatter3d\"}],\"scattercarpet\":[{\"marker\":{\"colorbar\":{\"outlinewidth\":0,\"ticks\":\"\"}},\"type\":\"scattercarpet\"}],\"scattergeo\":[{\"marker\":{\"colorbar\":{\"outlinewidth\":0,\"ticks\":\"\"}},\"type\":\"scattergeo\"}],\"scattergl\":[{\"marker\":{\"line\":{\"color\":\"#283442\"}},\"type\":\"scattergl\"}],\"scattermapbox\":[{\"marker\":{\"colorbar\":{\"outlinewidth\":0,\"ticks\":\"\"}},\"type\":\"scattermapbox\"}],\"scatterpolargl\":[{\"marker\":{\"colorbar\":{\"outlinewidth\":0,\"ticks\":\"\"}},\"type\":\"scatterpolargl\"}],\"scatterpolar\":[{\"marker\":{\"colorbar\":{\"outlinewidth\":0,\"ticks\":\"\"}},\"type\":\"scatterpolar\"}],\"scatter\":[{\"marker\":{\"line\":{\"color\":\"#283442\"}},\"type\":\"scatter\"}],\"scatterternary\":[{\"marker\":{\"colorbar\":{\"outlinewidth\":0,\"ticks\":\"\"}},\"type\":\"scatterternary\"}],\"surface\":[{\"colorbar\":{\"outlinewidth\":0,\"ticks\":\"\"},\"colorscale\":[[0.0,\"#0d0887\"],[0.1111111111111111,\"#46039f\"],[0.2222222222222222,\"#7201a8\"],[0.3333333333333333,\"#9c179e\"],[0.4444444444444444,\"#bd3786\"],[0.5555555555555556,\"#d8576b\"],[0.6666666666666666,\"#ed7953\"],[0.7777777777777778,\"#fb9f3a\"],[0.8888888888888888,\"#fdca26\"],[1.0,\"#f0f921\"]],\"type\":\"surface\"}],\"table\":[{\"cells\":{\"fill\":{\"color\":\"#506784\"},\"line\":{\"color\":\"rgb(17,17,17)\"}},\"header\":{\"fill\":{\"color\":\"#2a3f5f\"},\"line\":{\"color\":\"rgb(17,17,17)\"}},\"type\":\"table\"}]},\"layout\":{\"annotationdefaults\":{\"arrowcolor\":\"#f2f5fa\",\"arrowhead\":0,\"arrowwidth\":1},\"autotypenumbers\":\"strict\",\"coloraxis\":{\"colorbar\":{\"outlinewidth\":0,\"ticks\":\"\"}},\"colorscale\":{\"diverging\":[[0,\"#8e0152\"],[0.1,\"#c51b7d\"],[0.2,\"#de77ae\"],[0.3,\"#f1b6da\"],[0.4,\"#fde0ef\"],[0.5,\"#f7f7f7\"],[0.6,\"#e6f5d0\"],[0.7,\"#b8e186\"],[0.8,\"#7fbc41\"],[0.9,\"#4d9221\"],[1,\"#276419\"]],\"sequential\":[[0.0,\"#0d0887\"],[0.1111111111111111,\"#46039f\"],[0.2222222222222222,\"#7201a8\"],[0.3333333333333333,\"#9c179e\"],[0.4444444444444444,\"#bd3786\"],[0.5555555555555556,\"#d8576b\"],[0.6666666666666666,\"#ed7953\"],[0.7777777777777778,\"#fb9f3a\"],[0.8888888888888888,\"#fdca26\"],[1.0,\"#f0f921\"]],\"sequentialminus\":[[0.0,\"#0d0887\"],[0.1111111111111111,\"#46039f\"],[0.2222222222222222,\"#7201a8\"],[0.3333333333333333,\"#9c179e\"],[0.4444444444444444,\"#bd3786\"],[0.5555555555555556,\"#d8576b\"],[0.6666666666666666,\"#ed7953\"],[0.7777777777777778,\"#fb9f3a\"],[0.8888888888888888,\"#fdca26\"],[1.0,\"#f0f921\"]]},\"colorway\":[\"#636efa\",\"#EF553B\",\"#00cc96\",\"#ab63fa\",\"#FFA15A\",\"#19d3f3\",\"#FF6692\",\"#B6E880\",\"#FF97FF\",\"#FECB52\"],\"font\":{\"color\":\"#f2f5fa\"},\"geo\":{\"bgcolor\":\"rgb(17,17,17)\",\"lakecolor\":\"rgb(17,17,17)\",\"landcolor\":\"rgb(17,17,17)\",\"showlakes\":true,\"showland\":true,\"subunitcolor\":\"#506784\"},\"hoverlabel\":{\"align\":\"left\"},\"hovermode\":\"closest\",\"mapbox\":{\"style\":\"dark\"},\"paper_bgcolor\":\"rgb(17,17,17)\",\"plot_bgcolor\":\"rgb(17,17,17)\",\"polar\":{\"angularaxis\":{\"gridcolor\":\"#506784\",\"linecolor\":\"#506784\",\"ticks\":\"\"},\"bgcolor\":\"rgb(17,17,17)\",\"radialaxis\":{\"gridcolor\":\"#506784\",\"linecolor\":\"#506784\",\"ticks\":\"\"}},\"scene\":{\"xaxis\":{\"backgroundcolor\":\"rgb(17,17,17)\",\"gridcolor\":\"#506784\",\"gridwidth\":2,\"linecolor\":\"#506784\",\"showbackground\":true,\"ticks\":\"\",\"zerolinecolor\":\"#C8D4E3\"},\"yaxis\":{\"backgroundcolor\":\"rgb(17,17,17)\",\"gridcolor\":\"#506784\",\"gridwidth\":2,\"linecolor\":\"#506784\",\"showbackground\":true,\"ticks\":\"\",\"zerolinecolor\":\"#C8D4E3\"},\"zaxis\":{\"backgroundcolor\":\"rgb(17,17,17)\",\"gridcolor\":\"#506784\",\"gridwidth\":2,\"linecolor\":\"#506784\",\"showbackground\":true,\"ticks\":\"\",\"zerolinecolor\":\"#C8D4E3\"}},\"shapedefaults\":{\"line\":{\"color\":\"#f2f5fa\"}},\"sliderdefaults\":{\"bgcolor\":\"#C8D4E3\",\"bordercolor\":\"rgb(17,17,17)\",\"borderwidth\":1,\"tickwidth\":0},\"ternary\":{\"aaxis\":{\"gridcolor\":\"#506784\",\"linecolor\":\"#506784\",\"ticks\":\"\"},\"baxis\":{\"gridcolor\":\"#506784\",\"linecolor\":\"#506784\",\"ticks\":\"\"},\"bgcolor\":\"rgb(17,17,17)\",\"caxis\":{\"gridcolor\":\"#506784\",\"linecolor\":\"#506784\",\"ticks\":\"\"}},\"title\":{\"x\":0.05},\"updatemenudefaults\":{\"bgcolor\":\"#506784\",\"borderwidth\":0},\"xaxis\":{\"automargin\":true,\"gridcolor\":\"#283442\",\"linecolor\":\"#506784\",\"ticks\":\"\",\"title\":{\"standoff\":15},\"zerolinecolor\":\"#283442\",\"zerolinewidth\":2},\"yaxis\":{\"automargin\":true,\"gridcolor\":\"#283442\",\"linecolor\":\"#506784\",\"ticks\":\"\",\"title\":{\"standoff\":15},\"zerolinecolor\":\"#283442\",\"zerolinewidth\":2}}},\"geo\":{\"domain\":{\"x\":[0.0,1.0],\"y\":[0.0,1.0]},\"center\":{},\"scope\":\"usa\"},\"coloraxis\":{\"colorbar\":{\"title\":{\"text\":\"Total Cases\"}},\"colorscale\":[[0.0,\"rgb(247,251,255)\"],[0.125,\"rgb(222,235,247)\"],[0.25,\"rgb(198,219,239)\"],[0.375,\"rgb(158,202,225)\"],[0.5,\"rgb(107,174,214)\"],[0.625,\"rgb(66,146,198)\"],[0.75,\"rgb(33,113,181)\"],[0.875,\"rgb(8,81,156)\"],[1.0,\"rgb(8,48,107)\"]],\"cmin\":0,\"cmax\":4099897.35890411},\"legend\":{\"tracegroupgap\":0},\"margin\":{\"t\":0,\"l\":0,\"r\":0,\"b\":0},\"plot_bgcolor\":\"rgba(0, 0, 0, 0)\",\"paper_bgcolor\":\"rgba(0, 0, 0, 0)\",\"height\":350},                        {\"responsive\": true}                    )                };                            </script>        </div>"
      ],
      "text/plain": [
       "Figure({\n",
       "    'data': [{'coloraxis': 'coloraxis',\n",
       "              'geo': 'geo',\n",
       "              'hovertemplate': 'State=%{location}<br>Total Cases=%{z}<extra></extra>',\n",
       "              'locationmode': 'USA-states',\n",
       "              'locations': array(['Alabama', 'Alaska', 'American Samoa', 'Arizona', 'Arkansas',\n",
       "                                  'California', 'Colorado', 'Connecticut', 'Delaware',\n",
       "                                  'District of Columbia', 'Florida', 'Georgia', 'Guam', 'Hawaii', 'Idaho',\n",
       "                                  'Illinois', 'Indiana', 'Iowa', 'Kansas', 'Kentucky', 'Louisiana',\n",
       "                                  'Maine', 'Maryland', 'Massachusetts', 'Michigan', 'Minnesota',\n",
       "                                  'Mississippi', 'Missouri', 'Montana', 'Nebraska', 'Nevada',\n",
       "                                  'New Hampshire', 'New Jersey', 'New Mexico', 'New York',\n",
       "                                  'North Carolina', 'North Dakota', 'Northern Mariana Islands', 'Ohio',\n",
       "                                  'Oklahoma', 'Oregon', 'Pennsylvania', 'Puerto Rico', 'Rhode Island',\n",
       "                                  'South Carolina', 'South Dakota', 'Tennessee', 'Texas', 'Utah',\n",
       "                                  'Vermont', 'Virgin Islands', 'Virginia', 'Washington', 'West Virginia',\n",
       "                                  'Wisconsin', 'Wyoming'], dtype=object),\n",
       "              'name': '',\n",
       "              'type': 'choropleth',\n",
       "              'z': array([6.24065241e+05, 8.75450110e+04, 5.57425743e+00, 9.60222970e+05,\n",
       "                          3.96678118e+05, 4.09989736e+06, 5.84518501e+05, 3.47682008e+05,\n",
       "                          1.13769079e+05, 5.19634685e+04, 2.66895921e+06, 1.22573213e+06,\n",
       "                          1.20434658e+04, 4.95135233e+04, 2.17140068e+05, 1.44645642e+06,\n",
       "                          8.20958485e+05, 4.00581803e+05, 3.52633216e+05, 5.38814948e+05,\n",
       "                          5.63831989e+05, 7.35730877e+04, 4.70289890e+05, 7.22283578e+05,\n",
       "                          1.00442553e+06, 6.38996858e+05, 3.75050189e+05, 6.93420099e+05,\n",
       "                          1.28321770e+05, 2.38669737e+05, 3.59659485e+05, 1.05746036e+05,\n",
       "                          1.01578841e+06, 2.24862816e+05, 2.12538092e+06, 1.11145600e+06,\n",
       "                          1.19719699e+05, 3.70569863e+02, 1.21231605e+06, 5.07154701e+05,\n",
       "                          2.43150578e+05, 1.25244732e+06, 1.78296216e+05, 1.54438540e+05,\n",
       "                          6.63684033e+05, 1.31215874e+05, 9.54905142e+05, 3.27408021e+06,\n",
       "                          4.45605523e+05, 2.77039863e+04, 4.63048219e+03, 7.22761888e+05,\n",
       "                          5.08042707e+05, 1.87804244e+05, 7.32360496e+05, 7.25701589e+04])}],\n",
       "    'layout': {'coloraxis': {'cmax': 4099897.35890411,\n",
       "                             'cmin': 0,\n",
       "                             'colorbar': {'title': {'text': 'Total Cases'}},\n",
       "                             'colorscale': [[0.0, 'rgb(247,251,255)'], [0.125,\n",
       "                                            'rgb(222,235,247)'], [0.25,\n",
       "                                            'rgb(198,219,239)'], [0.375,\n",
       "                                            'rgb(158,202,225)'], [0.5,\n",
       "                                            'rgb(107,174,214)'], [0.625,\n",
       "                                            'rgb(66,146,198)'], [0.75,\n",
       "                                            'rgb(33,113,181)'], [0.875,\n",
       "                                            'rgb(8,81,156)'], [1.0,\n",
       "                                            'rgb(8,48,107)']]},\n",
       "               'geo': {'center': {}, 'domain': {'x': [0.0, 1.0], 'y': [0.0, 1.0]}, 'scope': 'usa'},\n",
       "               'height': 350,\n",
       "               'legend': {'tracegroupgap': 0},\n",
       "               'margin': {'b': 0, 'l': 0, 'r': 0, 't': 0},\n",
       "               'paper_bgcolor': 'rgba(0, 0, 0, 0)',\n",
       "               'plot_bgcolor': 'rgba(0, 0, 0, 0)',\n",
       "               'template': '...'}\n",
       "})"
      ]
     },
     "execution_count": 57,
     "metadata": {},
     "output_type": "execute_result"
    }
   ],
   "source": [
    "choropleth = px.choropleth(states_by_yr_avg_2021, locations='State', color='Total_Cases', locationmode=\"USA-states\",\n",
    "                               color_continuous_scale='blues',\n",
    "                               range_color=(0, max(states_by_yr_avg_2021.Total_Cases)),\n",
    "                               scope=\"usa\",\n",
    "                               labels={'Total_Cases':'Total Cases'}\n",
    "                              )\n",
    "choropleth.update_layout(\n",
    "        template='plotly_dark',\n",
    "        plot_bgcolor='rgba(0, 0, 0, 0)',\n",
    "        paper_bgcolor='rgba(0, 0, 0, 0)',\n",
    "        margin=dict(l=0, r=0, t=0, b=0),\n",
    "        height=350\n",
    "    )\n",
    "\n",
    "choropleth"
   ]
  },
  {
   "cell_type": "code",
   "execution_count": null,
   "metadata": {},
   "outputs": [],
   "source": []
  }
 ],
 "metadata": {
  "kernelspec": {
   "display_name": "venv",
   "language": "python",
   "name": "python3"
  },
  "language_info": {
   "codemirror_mode": {
    "name": "ipython",
    "version": 3
   },
   "file_extension": ".py",
   "mimetype": "text/x-python",
   "name": "python",
   "nbconvert_exporter": "python",
   "pygments_lexer": "ipython3",
   "version": "3.10.8"
  }
 },
 "nbformat": 4,
 "nbformat_minor": 2
}
